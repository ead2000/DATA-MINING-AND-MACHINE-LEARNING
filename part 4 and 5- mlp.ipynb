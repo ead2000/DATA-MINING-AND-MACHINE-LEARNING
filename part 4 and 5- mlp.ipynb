{
 "cells": [
  {
   "cell_type": "markdown",
   "id": "signal-chart",
   "metadata": {},
   "source": [
    "# Part 4"
   ]
  },
  {
   "cell_type": "markdown",
   "id": "overhead-consciousness",
   "metadata": {},
   "source": [
    "## Import Packages used"
   ]
  },
  {
   "cell_type": "code",
   "execution_count": 1,
   "id": "induced-fifth",
   "metadata": {},
   "outputs": [],
   "source": [
    "#handling data manipulations\n",
    "import pandas as pd\n",
    "#handlling data computations\n",
    "import numpy as np\n",
    "\n",
    "#for normalization of categorical variables\n",
    "from sklearn.preprocessing import LabelEncoder\n",
    "#for normalization of numerical variables\n",
    "from sklearn.preprocessing import StandardScaler\n",
    "# splitting dataset into training and testing set\n",
    "from sklearn.model_selection import train_test_split\n",
    "\n",
    "#for data splitting into train and validation sets\n",
    "from sklearn.model_selection import KFold\n",
    "# finding the best parameter for a model\n",
    "from sklearn.model_selection import cross_validate, cross_val_score\n",
    "\n",
    "# linear classifier\n",
    "from sklearn.linear_model import LogisticRegression\n",
    "# Multilayer Perceptron classifier\n",
    "from sklearn.neural_network import MLPClassifier\n",
    "\n",
    "#metrics to evaluate a model\n",
    "from sklearn.metrics import accuracy_score, precision_score, f1_score, recall_score\n",
    "\n",
    "# remove warnings\n",
    "import warnings\n",
    "warnings.filterwarnings(\"ignore\")"
   ]
  },
  {
   "cell_type": "markdown",
   "id": "bibliographic-format",
   "metadata": {},
   "source": [
    "## Import data"
   ]
  },
  {
   "cell_type": "code",
   "execution_count": 2,
   "id": "known-shirt",
   "metadata": {},
   "outputs": [],
   "source": [
    "df = pd.read_csv(\"train_data.csv\")"
   ]
  },
  {
   "cell_type": "markdown",
   "id": "stuck-accordance",
   "metadata": {},
   "source": [
    "## Data Preview"
   ]
  },
  {
   "cell_type": "code",
   "execution_count": 3,
   "id": "express-salvation",
   "metadata": {},
   "outputs": [
    {
     "data": {
      "text/html": [
       "<div>\n",
       "<style scoped>\n",
       "    .dataframe tbody tr th:only-of-type {\n",
       "        vertical-align: middle;\n",
       "    }\n",
       "\n",
       "    .dataframe tbody tr th {\n",
       "        vertical-align: top;\n",
       "    }\n",
       "\n",
       "    .dataframe thead th {\n",
       "        text-align: right;\n",
       "    }\n",
       "</style>\n",
       "<table border=\"1\" class=\"dataframe\">\n",
       "  <thead>\n",
       "    <tr style=\"text-align: right;\">\n",
       "      <th></th>\n",
       "      <th>case_id</th>\n",
       "      <th>Hospital_code</th>\n",
       "      <th>Hospital_type_code</th>\n",
       "      <th>City_Code_Hospital</th>\n",
       "      <th>Hospital_region_code</th>\n",
       "      <th>Available Extra Rooms in Hospital</th>\n",
       "      <th>Department</th>\n",
       "      <th>Ward_Type</th>\n",
       "      <th>Ward_Facility_Code</th>\n",
       "      <th>Bed Grade</th>\n",
       "      <th>patientid</th>\n",
       "      <th>City_Code_Patient</th>\n",
       "      <th>Type of Admission</th>\n",
       "      <th>Severity of Illness</th>\n",
       "      <th>Visitors with Patient</th>\n",
       "      <th>Age</th>\n",
       "      <th>Admission_Deposit</th>\n",
       "      <th>Stay</th>\n",
       "    </tr>\n",
       "  </thead>\n",
       "  <tbody>\n",
       "    <tr>\n",
       "      <th>0</th>\n",
       "      <td>1</td>\n",
       "      <td>8</td>\n",
       "      <td>c</td>\n",
       "      <td>3</td>\n",
       "      <td>Z</td>\n",
       "      <td>3</td>\n",
       "      <td>radiotherapy</td>\n",
       "      <td>R</td>\n",
       "      <td>F</td>\n",
       "      <td>2.0</td>\n",
       "      <td>31397</td>\n",
       "      <td>7.0</td>\n",
       "      <td>Emergency</td>\n",
       "      <td>Extreme</td>\n",
       "      <td>2</td>\n",
       "      <td>51-60</td>\n",
       "      <td>4911.0</td>\n",
       "      <td>0-10</td>\n",
       "    </tr>\n",
       "    <tr>\n",
       "      <th>1</th>\n",
       "      <td>2</td>\n",
       "      <td>2</td>\n",
       "      <td>c</td>\n",
       "      <td>5</td>\n",
       "      <td>Z</td>\n",
       "      <td>2</td>\n",
       "      <td>radiotherapy</td>\n",
       "      <td>S</td>\n",
       "      <td>F</td>\n",
       "      <td>2.0</td>\n",
       "      <td>31397</td>\n",
       "      <td>7.0</td>\n",
       "      <td>Trauma</td>\n",
       "      <td>Extreme</td>\n",
       "      <td>2</td>\n",
       "      <td>51-60</td>\n",
       "      <td>5954.0</td>\n",
       "      <td>41-50</td>\n",
       "    </tr>\n",
       "    <tr>\n",
       "      <th>2</th>\n",
       "      <td>3</td>\n",
       "      <td>10</td>\n",
       "      <td>e</td>\n",
       "      <td>1</td>\n",
       "      <td>X</td>\n",
       "      <td>2</td>\n",
       "      <td>anesthesia</td>\n",
       "      <td>S</td>\n",
       "      <td>E</td>\n",
       "      <td>2.0</td>\n",
       "      <td>31397</td>\n",
       "      <td>7.0</td>\n",
       "      <td>Trauma</td>\n",
       "      <td>Extreme</td>\n",
       "      <td>2</td>\n",
       "      <td>51-60</td>\n",
       "      <td>4745.0</td>\n",
       "      <td>31-40</td>\n",
       "    </tr>\n",
       "    <tr>\n",
       "      <th>3</th>\n",
       "      <td>4</td>\n",
       "      <td>26</td>\n",
       "      <td>b</td>\n",
       "      <td>2</td>\n",
       "      <td>Y</td>\n",
       "      <td>2</td>\n",
       "      <td>radiotherapy</td>\n",
       "      <td>R</td>\n",
       "      <td>D</td>\n",
       "      <td>2.0</td>\n",
       "      <td>31397</td>\n",
       "      <td>7.0</td>\n",
       "      <td>Trauma</td>\n",
       "      <td>Extreme</td>\n",
       "      <td>2</td>\n",
       "      <td>51-60</td>\n",
       "      <td>7272.0</td>\n",
       "      <td>41-50</td>\n",
       "    </tr>\n",
       "    <tr>\n",
       "      <th>4</th>\n",
       "      <td>5</td>\n",
       "      <td>26</td>\n",
       "      <td>b</td>\n",
       "      <td>2</td>\n",
       "      <td>Y</td>\n",
       "      <td>2</td>\n",
       "      <td>radiotherapy</td>\n",
       "      <td>S</td>\n",
       "      <td>D</td>\n",
       "      <td>2.0</td>\n",
       "      <td>31397</td>\n",
       "      <td>7.0</td>\n",
       "      <td>Trauma</td>\n",
       "      <td>Extreme</td>\n",
       "      <td>2</td>\n",
       "      <td>51-60</td>\n",
       "      <td>5558.0</td>\n",
       "      <td>41-50</td>\n",
       "    </tr>\n",
       "  </tbody>\n",
       "</table>\n",
       "</div>"
      ],
      "text/plain": [
       "   case_id  Hospital_code Hospital_type_code  City_Code_Hospital  \\\n",
       "0        1              8                  c                   3   \n",
       "1        2              2                  c                   5   \n",
       "2        3             10                  e                   1   \n",
       "3        4             26                  b                   2   \n",
       "4        5             26                  b                   2   \n",
       "\n",
       "  Hospital_region_code  Available Extra Rooms in Hospital    Department  \\\n",
       "0                    Z                                  3  radiotherapy   \n",
       "1                    Z                                  2  radiotherapy   \n",
       "2                    X                                  2    anesthesia   \n",
       "3                    Y                                  2  radiotherapy   \n",
       "4                    Y                                  2  radiotherapy   \n",
       "\n",
       "  Ward_Type Ward_Facility_Code  Bed Grade  patientid  City_Code_Patient  \\\n",
       "0         R                  F        2.0      31397                7.0   \n",
       "1         S                  F        2.0      31397                7.0   \n",
       "2         S                  E        2.0      31397                7.0   \n",
       "3         R                  D        2.0      31397                7.0   \n",
       "4         S                  D        2.0      31397                7.0   \n",
       "\n",
       "  Type of Admission Severity of Illness  Visitors with Patient    Age  \\\n",
       "0         Emergency             Extreme                      2  51-60   \n",
       "1            Trauma             Extreme                      2  51-60   \n",
       "2            Trauma             Extreme                      2  51-60   \n",
       "3            Trauma             Extreme                      2  51-60   \n",
       "4            Trauma             Extreme                      2  51-60   \n",
       "\n",
       "   Admission_Deposit   Stay  \n",
       "0             4911.0   0-10  \n",
       "1             5954.0  41-50  \n",
       "2             4745.0  31-40  \n",
       "3             7272.0  41-50  \n",
       "4             5558.0  41-50  "
      ]
     },
     "execution_count": 3,
     "metadata": {},
     "output_type": "execute_result"
    }
   ],
   "source": [
    "df.head()"
   ]
  },
  {
   "cell_type": "markdown",
   "id": "sticky-morocco",
   "metadata": {},
   "source": [
    "## removing Missing values"
   ]
  },
  {
   "cell_type": "code",
   "execution_count": 4,
   "id": "pregnant-locking",
   "metadata": {},
   "outputs": [
    {
     "data": {
      "text/plain": [
       "case_id                                 0\n",
       "Hospital_code                           0\n",
       "Hospital_type_code                      0\n",
       "City_Code_Hospital                      0\n",
       "Hospital_region_code                    0\n",
       "Available Extra Rooms in Hospital       0\n",
       "Department                              0\n",
       "Ward_Type                               0\n",
       "Ward_Facility_Code                      0\n",
       "Bed Grade                             113\n",
       "patientid                               0\n",
       "City_Code_Patient                    4532\n",
       "Type of Admission                       0\n",
       "Severity of Illness                     0\n",
       "Visitors with Patient                   0\n",
       "Age                                     0\n",
       "Admission_Deposit                       0\n",
       "Stay                                    0\n",
       "dtype: int64"
      ]
     },
     "execution_count": 4,
     "metadata": {},
     "output_type": "execute_result"
    }
   ],
   "source": [
    "df.isnull().sum()"
   ]
  },
  {
   "cell_type": "code",
   "execution_count": 5,
   "id": "champion-pavilion",
   "metadata": {},
   "outputs": [],
   "source": [
    "df1 = df.dropna()"
   ]
  },
  {
   "cell_type": "code",
   "execution_count": 6,
   "id": "studied-canadian",
   "metadata": {},
   "outputs": [
    {
     "data": {
      "text/plain": [
       "case_id                              0\n",
       "Hospital_code                        0\n",
       "Hospital_type_code                   0\n",
       "City_Code_Hospital                   0\n",
       "Hospital_region_code                 0\n",
       "Available Extra Rooms in Hospital    0\n",
       "Department                           0\n",
       "Ward_Type                            0\n",
       "Ward_Facility_Code                   0\n",
       "Bed Grade                            0\n",
       "patientid                            0\n",
       "City_Code_Patient                    0\n",
       "Type of Admission                    0\n",
       "Severity of Illness                  0\n",
       "Visitors with Patient                0\n",
       "Age                                  0\n",
       "Admission_Deposit                    0\n",
       "Stay                                 0\n",
       "dtype: int64"
      ]
     },
     "execution_count": 6,
     "metadata": {},
     "output_type": "execute_result"
    }
   ],
   "source": [
    "df1.isnull().sum()"
   ]
  },
  {
   "cell_type": "markdown",
   "id": "legal-might",
   "metadata": {},
   "source": [
    "## Column selection for training"
   ]
  },
  {
   "cell_type": "code",
   "execution_count": 7,
   "id": "cathedral-production",
   "metadata": {},
   "outputs": [
    {
     "data": {
      "text/plain": [
       "Index(['case_id', 'Hospital_code', 'Hospital_type_code', 'City_Code_Hospital',\n",
       "       'Hospital_region_code', 'Available Extra Rooms in Hospital',\n",
       "       'Department', 'Ward_Type', 'Ward_Facility_Code', 'Bed Grade',\n",
       "       'patientid', 'City_Code_Patient', 'Type of Admission',\n",
       "       'Severity of Illness', 'Visitors with Patient', 'Age',\n",
       "       'Admission_Deposit', 'Stay'],\n",
       "      dtype='object')"
      ]
     },
     "execution_count": 7,
     "metadata": {},
     "output_type": "execute_result"
    }
   ],
   "source": [
    "df1.columns"
   ]
  },
  {
   "cell_type": "code",
   "execution_count": 8,
   "id": "stock-doctrine",
   "metadata": {},
   "outputs": [],
   "source": [
    "#selected column to be used \n",
    "cols = ['Hospital_code', 'Hospital_type_code', 'City_Code_Hospital',\n",
    "       'Available Extra Rooms in Hospital', 'Department', 'Ward_Type',\n",
    "       'Ward_Facility_Code', 'Type of Admission', 'Severity of Illness',\n",
    "       'Visitors with Patient', 'Age', 'Admission_Deposit']"
   ]
  },
  {
   "cell_type": "code",
   "execution_count": 9,
   "id": "polar-protection",
   "metadata": {},
   "outputs": [],
   "source": [
    "df1_a = df1[cols]"
   ]
  },
  {
   "cell_type": "code",
   "execution_count": 10,
   "id": "pharmaceutical-right",
   "metadata": {},
   "outputs": [
    {
     "name": "stdout",
     "output_type": "stream",
     "text": [
      "<class 'pandas.core.frame.DataFrame'>\n",
      "Int64Index: 313793 entries, 0 to 318437\n",
      "Data columns (total 12 columns):\n",
      " #   Column                             Non-Null Count   Dtype  \n",
      "---  ------                             --------------   -----  \n",
      " 0   Hospital_code                      313793 non-null  int64  \n",
      " 1   Hospital_type_code                 313793 non-null  object \n",
      " 2   City_Code_Hospital                 313793 non-null  int64  \n",
      " 3   Available Extra Rooms in Hospital  313793 non-null  int64  \n",
      " 4   Department                         313793 non-null  object \n",
      " 5   Ward_Type                          313793 non-null  object \n",
      " 6   Ward_Facility_Code                 313793 non-null  object \n",
      " 7   Type of Admission                  313793 non-null  object \n",
      " 8   Severity of Illness                313793 non-null  object \n",
      " 9   Visitors with Patient              313793 non-null  int64  \n",
      " 10  Age                                313793 non-null  object \n",
      " 11  Admission_Deposit                  313793 non-null  float64\n",
      "dtypes: float64(1), int64(4), object(7)\n",
      "memory usage: 31.1+ MB\n"
     ]
    }
   ],
   "source": [
    "#To get a brief undrstanding of all the columns\n",
    "df1_a.info()"
   ]
  },
  {
   "cell_type": "markdown",
   "id": "wireless-oracle",
   "metadata": {},
   "source": [
    "## Normalization"
   ]
  },
  {
   "cell_type": "code",
   "execution_count": 11,
   "id": "inner-galaxy",
   "metadata": {},
   "outputs": [],
   "source": [
    "# column names of categorical variables\n",
    "col_cat = ['Hospital_code', 'Hospital_type_code', 'City_Code_Hospital','Type of Admission',\n",
    "          'Department', 'Ward_Type', 'Ward_Facility_Code', 'Age', 'Severity of Illness']"
   ]
  },
  {
   "cell_type": "code",
   "execution_count": 12,
   "id": "intimate-relay",
   "metadata": {},
   "outputs": [],
   "source": [
    "# column names of numerical variables\n",
    "col_num = ['Available Extra Rooms in Hospital',\n",
    " 'Visitors with Patient',\n",
    " 'Admission_Deposit']"
   ]
  },
  {
   "cell_type": "code",
   "execution_count": 13,
   "id": "inclusive-pension",
   "metadata": {},
   "outputs": [],
   "source": [
    "# create an empty dataframe and input the outputs of the normalization of categorical values into it\n",
    "df2 = pd.DataFrame()\n",
    "for i in col_cat:\n",
    "    globals()['label_%s' %i.lower()] = LabelEncoder()\n",
    "    df2[i] = globals()['label_%s' %i.lower()].fit_transform(df1[i].values)"
   ]
  },
  {
   "cell_type": "code",
   "execution_count": 14,
   "id": "qualified-briefing",
   "metadata": {},
   "outputs": [
    {
     "data": {
      "text/html": [
       "<div>\n",
       "<style scoped>\n",
       "    .dataframe tbody tr th:only-of-type {\n",
       "        vertical-align: middle;\n",
       "    }\n",
       "\n",
       "    .dataframe tbody tr th {\n",
       "        vertical-align: top;\n",
       "    }\n",
       "\n",
       "    .dataframe thead th {\n",
       "        text-align: right;\n",
       "    }\n",
       "</style>\n",
       "<table border=\"1\" class=\"dataframe\">\n",
       "  <thead>\n",
       "    <tr style=\"text-align: right;\">\n",
       "      <th></th>\n",
       "      <th>Hospital_code</th>\n",
       "      <th>Hospital_type_code</th>\n",
       "      <th>City_Code_Hospital</th>\n",
       "      <th>Type of Admission</th>\n",
       "      <th>Department</th>\n",
       "      <th>Ward_Type</th>\n",
       "      <th>Ward_Facility_Code</th>\n",
       "      <th>Age</th>\n",
       "      <th>Severity of Illness</th>\n",
       "    </tr>\n",
       "  </thead>\n",
       "  <tbody>\n",
       "    <tr>\n",
       "      <th>0</th>\n",
       "      <td>7</td>\n",
       "      <td>2</td>\n",
       "      <td>2</td>\n",
       "      <td>0</td>\n",
       "      <td>3</td>\n",
       "      <td>2</td>\n",
       "      <td>5</td>\n",
       "      <td>5</td>\n",
       "      <td>0</td>\n",
       "    </tr>\n",
       "    <tr>\n",
       "      <th>1</th>\n",
       "      <td>1</td>\n",
       "      <td>2</td>\n",
       "      <td>4</td>\n",
       "      <td>1</td>\n",
       "      <td>3</td>\n",
       "      <td>3</td>\n",
       "      <td>5</td>\n",
       "      <td>5</td>\n",
       "      <td>0</td>\n",
       "    </tr>\n",
       "    <tr>\n",
       "      <th>2</th>\n",
       "      <td>9</td>\n",
       "      <td>4</td>\n",
       "      <td>0</td>\n",
       "      <td>1</td>\n",
       "      <td>1</td>\n",
       "      <td>3</td>\n",
       "      <td>4</td>\n",
       "      <td>5</td>\n",
       "      <td>0</td>\n",
       "    </tr>\n",
       "    <tr>\n",
       "      <th>3</th>\n",
       "      <td>25</td>\n",
       "      <td>1</td>\n",
       "      <td>1</td>\n",
       "      <td>1</td>\n",
       "      <td>3</td>\n",
       "      <td>2</td>\n",
       "      <td>3</td>\n",
       "      <td>5</td>\n",
       "      <td>0</td>\n",
       "    </tr>\n",
       "    <tr>\n",
       "      <th>4</th>\n",
       "      <td>25</td>\n",
       "      <td>1</td>\n",
       "      <td>1</td>\n",
       "      <td>1</td>\n",
       "      <td>3</td>\n",
       "      <td>3</td>\n",
       "      <td>3</td>\n",
       "      <td>5</td>\n",
       "      <td>0</td>\n",
       "    </tr>\n",
       "  </tbody>\n",
       "</table>\n",
       "</div>"
      ],
      "text/plain": [
       "   Hospital_code  Hospital_type_code  City_Code_Hospital  Type of Admission  \\\n",
       "0              7                   2                   2                  0   \n",
       "1              1                   2                   4                  1   \n",
       "2              9                   4                   0                  1   \n",
       "3             25                   1                   1                  1   \n",
       "4             25                   1                   1                  1   \n",
       "\n",
       "   Department  Ward_Type  Ward_Facility_Code  Age  Severity of Illness  \n",
       "0           3          2                   5    5                    0  \n",
       "1           3          3                   5    5                    0  \n",
       "2           1          3                   4    5                    0  \n",
       "3           3          2                   3    5                    0  \n",
       "4           3          3                   3    5                    0  "
      ]
     },
     "execution_count": 14,
     "metadata": {},
     "output_type": "execute_result"
    }
   ],
   "source": [
    "#Data Preview\n",
    "df2.head()"
   ]
  },
  {
   "cell_type": "code",
   "execution_count": 15,
   "id": "concerned-invalid",
   "metadata": {},
   "outputs": [],
   "source": [
    "# create an empty dataframe and input the outputs of the normalization of numerical values into it\n",
    "df3 = pd.DataFrame()\n",
    "df3['Age'] = df2['Age']\n",
    "\n",
    "for i in col_num:\n",
    "    globals()['std_%s' %i.lower()] = StandardScaler()\n",
    "    df3[i] = globals()['std_%s' %i.lower()].fit_transform(np.array(df1[i].values).reshape(-1,1))\n",
    "    \n",
    "del df3['Age']"
   ]
  },
  {
   "cell_type": "code",
   "execution_count": 16,
   "id": "cleared-receipt",
   "metadata": {},
   "outputs": [],
   "source": [
    "# normalization of the target variable into classes\n",
    "le_target = LabelEncoder()\n",
    "df3['Stay'] = le_target.fit_transform(df1['Stay'])"
   ]
  },
  {
   "cell_type": "code",
   "execution_count": null,
   "id": "received-flush",
   "metadata": {},
   "outputs": [],
   "source": []
  },
  {
   "cell_type": "code",
   "execution_count": 17,
   "id": "classified-turtle",
   "metadata": {},
   "outputs": [],
   "source": [
    "# joining the normalization outputs\n",
    "df4 = pd.concat([df2,df3], axis=1)"
   ]
  },
  {
   "cell_type": "code",
   "execution_count": 18,
   "id": "young-leisure",
   "metadata": {},
   "outputs": [
    {
     "data": {
      "text/html": [
       "<div>\n",
       "<style scoped>\n",
       "    .dataframe tbody tr th:only-of-type {\n",
       "        vertical-align: middle;\n",
       "    }\n",
       "\n",
       "    .dataframe tbody tr th {\n",
       "        vertical-align: top;\n",
       "    }\n",
       "\n",
       "    .dataframe thead th {\n",
       "        text-align: right;\n",
       "    }\n",
       "</style>\n",
       "<table border=\"1\" class=\"dataframe\">\n",
       "  <thead>\n",
       "    <tr style=\"text-align: right;\">\n",
       "      <th></th>\n",
       "      <th>Hospital_code</th>\n",
       "      <th>Hospital_type_code</th>\n",
       "      <th>City_Code_Hospital</th>\n",
       "      <th>Type of Admission</th>\n",
       "      <th>Department</th>\n",
       "      <th>Ward_Type</th>\n",
       "      <th>Ward_Facility_Code</th>\n",
       "      <th>Age</th>\n",
       "      <th>Severity of Illness</th>\n",
       "      <th>Available Extra Rooms in Hospital</th>\n",
       "      <th>Visitors with Patient</th>\n",
       "      <th>Admission_Deposit</th>\n",
       "      <th>Stay</th>\n",
       "    </tr>\n",
       "  </thead>\n",
       "  <tbody>\n",
       "    <tr>\n",
       "      <th>0</th>\n",
       "      <td>7</td>\n",
       "      <td>2</td>\n",
       "      <td>2</td>\n",
       "      <td>0</td>\n",
       "      <td>3</td>\n",
       "      <td>2</td>\n",
       "      <td>5</td>\n",
       "      <td>5</td>\n",
       "      <td>0</td>\n",
       "      <td>-0.168178</td>\n",
       "      <td>-0.727035</td>\n",
       "      <td>0.026796</td>\n",
       "      <td>0</td>\n",
       "    </tr>\n",
       "    <tr>\n",
       "      <th>1</th>\n",
       "      <td>1</td>\n",
       "      <td>2</td>\n",
       "      <td>4</td>\n",
       "      <td>1</td>\n",
       "      <td>3</td>\n",
       "      <td>3</td>\n",
       "      <td>5</td>\n",
       "      <td>5</td>\n",
       "      <td>0</td>\n",
       "      <td>-1.024400</td>\n",
       "      <td>-0.727035</td>\n",
       "      <td>0.986987</td>\n",
       "      <td>4</td>\n",
       "    </tr>\n",
       "    <tr>\n",
       "      <th>2</th>\n",
       "      <td>9</td>\n",
       "      <td>4</td>\n",
       "      <td>0</td>\n",
       "      <td>1</td>\n",
       "      <td>1</td>\n",
       "      <td>3</td>\n",
       "      <td>4</td>\n",
       "      <td>5</td>\n",
       "      <td>0</td>\n",
       "      <td>-1.024400</td>\n",
       "      <td>-0.727035</td>\n",
       "      <td>-0.126025</td>\n",
       "      <td>3</td>\n",
       "    </tr>\n",
       "    <tr>\n",
       "      <th>3</th>\n",
       "      <td>25</td>\n",
       "      <td>1</td>\n",
       "      <td>1</td>\n",
       "      <td>1</td>\n",
       "      <td>3</td>\n",
       "      <td>2</td>\n",
       "      <td>3</td>\n",
       "      <td>5</td>\n",
       "      <td>0</td>\n",
       "      <td>-1.024400</td>\n",
       "      <td>-0.727035</td>\n",
       "      <td>2.200344</td>\n",
       "      <td>4</td>\n",
       "    </tr>\n",
       "    <tr>\n",
       "      <th>4</th>\n",
       "      <td>25</td>\n",
       "      <td>1</td>\n",
       "      <td>1</td>\n",
       "      <td>1</td>\n",
       "      <td>3</td>\n",
       "      <td>3</td>\n",
       "      <td>3</td>\n",
       "      <td>5</td>\n",
       "      <td>0</td>\n",
       "      <td>-1.024400</td>\n",
       "      <td>-0.727035</td>\n",
       "      <td>0.622427</td>\n",
       "      <td>4</td>\n",
       "    </tr>\n",
       "  </tbody>\n",
       "</table>\n",
       "</div>"
      ],
      "text/plain": [
       "   Hospital_code  Hospital_type_code  City_Code_Hospital  Type of Admission  \\\n",
       "0              7                   2                   2                  0   \n",
       "1              1                   2                   4                  1   \n",
       "2              9                   4                   0                  1   \n",
       "3             25                   1                   1                  1   \n",
       "4             25                   1                   1                  1   \n",
       "\n",
       "   Department  Ward_Type  Ward_Facility_Code  Age  Severity of Illness  \\\n",
       "0           3          2                   5    5                    0   \n",
       "1           3          3                   5    5                    0   \n",
       "2           1          3                   4    5                    0   \n",
       "3           3          2                   3    5                    0   \n",
       "4           3          3                   3    5                    0   \n",
       "\n",
       "   Available Extra Rooms in Hospital  Visitors with Patient  \\\n",
       "0                          -0.168178              -0.727035   \n",
       "1                          -1.024400              -0.727035   \n",
       "2                          -1.024400              -0.727035   \n",
       "3                          -1.024400              -0.727035   \n",
       "4                          -1.024400              -0.727035   \n",
       "\n",
       "   Admission_Deposit  Stay  \n",
       "0           0.026796     0  \n",
       "1           0.986987     4  \n",
       "2          -0.126025     3  \n",
       "3           2.200344     4  \n",
       "4           0.622427     4  "
      ]
     },
     "execution_count": 18,
     "metadata": {},
     "output_type": "execute_result"
    }
   ],
   "source": [
    "# data preview of the normalized data\n",
    "df4.head()"
   ]
  },
  {
   "cell_type": "markdown",
   "id": "informed-richards",
   "metadata": {},
   "source": [
    "## Data Selection for training"
   ]
  },
  {
   "cell_type": "markdown",
   "id": "finished-synthetic",
   "metadata": {},
   "source": [
    "- I selected all the rows and all the columns except the last column for the features (input) \n",
    "- I selected all the rows and only the last column for the target which is the \"Stay\" column"
   ]
  },
  {
   "cell_type": "code",
   "execution_count": 19,
   "id": "appreciated-virgin",
   "metadata": {},
   "outputs": [],
   "source": [
    "X = df4.iloc[:,:-1] # features\n",
    "y = df4.iloc[:,-1] # targets"
   ]
  },
  {
   "cell_type": "markdown",
   "id": "annoying-virginia",
   "metadata": {},
   "source": [
    "## Cross validation for the linear classification model"
   ]
  },
  {
   "cell_type": "code",
   "execution_count": 20,
   "id": "monetary-opinion",
   "metadata": {},
   "outputs": [],
   "source": [
    "# 10 fold cross validation\n",
    "cv = KFold(n_splits=10, random_state=1, shuffle=True)\n",
    "# model to train\n",
    "model_cv = LogisticRegression()\n",
    "# metrics used in the crosss validation\n",
    "scoring = ['accuracy','f1_macro','precision_macro', 'recall_macro']\n",
    "# start the cross validation\n",
    "scores = cross_validate(model_cv, X, y, scoring=scoring, cv=cv, n_jobs=-1)"
   ]
  },
  {
   "cell_type": "code",
   "execution_count": 21,
   "id": "precise-conflict",
   "metadata": {},
   "outputs": [
    {
     "data": {
      "text/plain": [
       "array([0.36255577, 0.36070746, 0.35882728, 0.35982664, 0.35753211,\n",
       "       0.35941235, 0.35737277, 0.36250359, 0.35542879, 0.36113324])"
      ]
     },
     "execution_count": 21,
     "metadata": {},
     "output_type": "execute_result"
    }
   ],
   "source": [
    "scores['test_accuracy']"
   ]
  },
  {
   "cell_type": "markdown",
   "id": "skilled-continent",
   "metadata": {},
   "source": [
    "###### - Inference\n",
    "\n",
    "###### All 10 fold produced different but similar accuracy scores, 35% ~ 36% is a bad accuracy score for a model, so the model is not suitable for the data "
   ]
  },
  {
   "cell_type": "markdown",
   "id": "surrounded-castle",
   "metadata": {},
   "source": [
    "## Train test splitting of the dataset"
   ]
  },
  {
   "cell_type": "code",
   "execution_count": 22,
   "id": "remarkable-latest",
   "metadata": {},
   "outputs": [],
   "source": [
    "# we set the size of the test set to be 30% of the main dataset\n",
    "X_train, X_test, y_train, y_test = train_test_split( \n",
    "    X.values, y.values, test_size=0.3, random_state=0)"
   ]
  },
  {
   "cell_type": "code",
   "execution_count": 23,
   "id": "blessed-restaurant",
   "metadata": {},
   "outputs": [],
   "source": [
    "# model initialization\n",
    "model = LogisticRegression()\n",
    "# model training\n",
    "model.fit(X_train, y_train)\n",
    "# prediction\n",
    "y_pred = model.predict(X_test)"
   ]
  },
  {
   "cell_type": "code",
   "execution_count": 24,
   "id": "architectural-writing",
   "metadata": {},
   "outputs": [
    {
     "name": "stdout",
     "output_type": "stream",
     "text": [
      "The accuracy score is:  0.3618729949648389\n"
     ]
    }
   ],
   "source": [
    "print(\"The accuracy score is: \" ,accuracy_score(y_test, y_pred))"
   ]
  },
  {
   "cell_type": "markdown",
   "id": "alien-component",
   "metadata": {},
   "source": [
    "###### - Inference\n",
    "\n",
    "###### The accuracy score on unseen data is 36%, the model doesnt generalize well with the model. Being a linear model, this data is not linear separable."
   ]
  },
  {
   "cell_type": "markdown",
   "id": "plastic-gardening",
   "metadata": {},
   "source": [
    "## Multilayer Perceptron"
   ]
  },
  {
   "cell_type": "markdown",
   "id": "exceptional-height",
   "metadata": {},
   "source": [
    "### First experiment"
   ]
  },
  {
   "cell_type": "code",
   "execution_count": 111,
   "id": "architectural-release",
   "metadata": {},
   "outputs": [],
   "source": [
    "# setting the mlp classifier arguments (parameters)\n",
    "param_dict = {\n",
    "    \"hidden_layer_sizes\":(100, 50, 25), #3 hidden layers with 100, 50 and 25 neurons for their layers\n",
    "    \"activation\":'logistic', #logistic activation function\n",
    "    \"solver\":'adam', #loss function\n",
    "    \"batch_size\":70,\n",
    "    \"learning_rate\":'adaptive',\n",
    "    \"verbose\":True # show progress in training\n",
    "}"
   ]
  },
  {
   "cell_type": "code",
   "execution_count": 112,
   "id": "unable-grammar",
   "metadata": {},
   "outputs": [],
   "source": [
    "# initialzing the mlp classifier\n",
    "mlp = MLPClassifier(**param_dict)"
   ]
  },
  {
   "cell_type": "code",
   "execution_count": 113,
   "id": "stylish-saudi",
   "metadata": {},
   "outputs": [
    {
     "data": {
      "text/plain": [
       "MLPClassifier(activation='logistic', batch_size=70,\n",
       "              hidden_layer_sizes=(100, 50, 25), learning_rate='adaptive',\n",
       "              verbose=True)"
      ]
     },
     "execution_count": 113,
     "metadata": {},
     "output_type": "execute_result"
    }
   ],
   "source": [
    "mlp"
   ]
  },
  {
   "cell_type": "code",
   "execution_count": 114,
   "id": "empty-scholarship",
   "metadata": {
    "scrolled": true
   },
   "outputs": [
    {
     "name": "stdout",
     "output_type": "stream",
     "text": [
      "Iteration 1, loss = 1.69314151\n",
      "Iteration 2, loss = 1.62383828\n",
      "Iteration 3, loss = 1.60722089\n",
      "Iteration 4, loss = 1.60101907\n",
      "Iteration 5, loss = 1.59479951\n",
      "Iteration 6, loss = 1.58809518\n",
      "Iteration 7, loss = 1.58010502\n",
      "Iteration 8, loss = 1.57426856\n",
      "Iteration 9, loss = 1.57004126\n",
      "Iteration 10, loss = 1.56698405\n",
      "Iteration 11, loss = 1.56466800\n",
      "Iteration 12, loss = 1.56266565\n",
      "Iteration 13, loss = 1.56086548\n",
      "Iteration 14, loss = 1.55938737\n",
      "Iteration 15, loss = 1.55825401\n",
      "Iteration 16, loss = 1.55688974\n",
      "Iteration 17, loss = 1.55538078\n",
      "Iteration 18, loss = 1.55445294\n",
      "Iteration 19, loss = 1.55327177\n",
      "Iteration 20, loss = 1.55218858\n",
      "Iteration 21, loss = 1.55082017\n",
      "Iteration 22, loss = 1.54848560\n",
      "Iteration 23, loss = 1.54585245\n",
      "Iteration 24, loss = 1.54332125\n",
      "Iteration 25, loss = 1.54182271\n",
      "Iteration 26, loss = 1.54112931\n",
      "Iteration 27, loss = 1.54030322\n",
      "Iteration 28, loss = 1.53964235\n",
      "Iteration 29, loss = 1.53897759\n",
      "Iteration 30, loss = 1.53833204\n",
      "Iteration 31, loss = 1.53811501\n",
      "Iteration 32, loss = 1.53726096\n",
      "Iteration 33, loss = 1.53694862\n",
      "Iteration 34, loss = 1.53656413\n",
      "Iteration 35, loss = 1.53576121\n",
      "Iteration 36, loss = 1.53531129\n",
      "Iteration 37, loss = 1.53488121\n",
      "Iteration 38, loss = 1.53455028\n",
      "Iteration 39, loss = 1.53404749\n",
      "Iteration 40, loss = 1.53380324\n",
      "Iteration 41, loss = 1.53319808\n",
      "Iteration 42, loss = 1.53271426\n",
      "Iteration 43, loss = 1.53238598\n",
      "Iteration 44, loss = 1.53215079\n",
      "Iteration 45, loss = 1.53186192\n",
      "Iteration 46, loss = 1.53111397\n",
      "Iteration 47, loss = 1.53076299\n",
      "Iteration 48, loss = 1.53063538\n",
      "Iteration 49, loss = 1.53041418\n",
      "Iteration 50, loss = 1.53002028\n",
      "Iteration 51, loss = 1.52956846\n",
      "Iteration 52, loss = 1.52935415\n",
      "Iteration 53, loss = 1.52923880\n",
      "Iteration 54, loss = 1.52839379\n",
      "Iteration 55, loss = 1.52816902\n",
      "Iteration 56, loss = 1.52823281\n",
      "Iteration 57, loss = 1.52787851\n",
      "Iteration 58, loss = 1.52735454\n",
      "Iteration 59, loss = 1.52715505\n",
      "Iteration 60, loss = 1.52684669\n",
      "Iteration 61, loss = 1.52648475\n",
      "Iteration 62, loss = 1.52613632\n",
      "Iteration 63, loss = 1.52600651\n",
      "Iteration 64, loss = 1.52605068\n",
      "Iteration 65, loss = 1.52561163\n",
      "Iteration 66, loss = 1.52533411\n",
      "Iteration 67, loss = 1.52518287\n",
      "Iteration 68, loss = 1.52481091\n",
      "Iteration 69, loss = 1.52454416\n",
      "Iteration 70, loss = 1.52432444\n",
      "Iteration 71, loss = 1.52423815\n",
      "Iteration 72, loss = 1.52391935\n",
      "Iteration 73, loss = 1.52364740\n",
      "Iteration 74, loss = 1.52343294\n",
      "Iteration 75, loss = 1.52340365\n",
      "Iteration 76, loss = 1.52317935\n",
      "Iteration 77, loss = 1.52286622\n",
      "Iteration 78, loss = 1.52274245\n",
      "Iteration 79, loss = 1.52251555\n",
      "Iteration 80, loss = 1.52213403\n",
      "Iteration 81, loss = 1.52189963\n",
      "Iteration 82, loss = 1.52187767\n",
      "Iteration 83, loss = 1.52163803\n",
      "Iteration 84, loss = 1.52165963\n",
      "Iteration 85, loss = 1.52141003\n",
      "Iteration 86, loss = 1.52089916\n",
      "Iteration 87, loss = 1.52100699\n",
      "Iteration 88, loss = 1.52076805\n",
      "Iteration 89, loss = 1.52042459\n",
      "Iteration 90, loss = 1.52046180\n",
      "Iteration 91, loss = 1.52011130\n",
      "Iteration 92, loss = 1.52000390\n",
      "Iteration 93, loss = 1.51995525\n",
      "Iteration 94, loss = 1.51977158\n",
      "Iteration 95, loss = 1.51982489\n",
      "Iteration 96, loss = 1.51964316\n",
      "Iteration 97, loss = 1.51917798\n",
      "Iteration 98, loss = 1.51920790\n",
      "Iteration 99, loss = 1.51898982\n",
      "Iteration 100, loss = 1.51894191\n",
      "Iteration 101, loss = 1.51876202\n",
      "Iteration 102, loss = 1.51858358\n",
      "Iteration 103, loss = 1.51847231\n",
      "Iteration 104, loss = 1.51810035\n",
      "Iteration 105, loss = 1.51829368\n",
      "Iteration 106, loss = 1.51786281\n",
      "Iteration 107, loss = 1.51777863\n",
      "Iteration 108, loss = 1.51785045\n",
      "Iteration 109, loss = 1.51752741\n",
      "Iteration 110, loss = 1.51758714\n",
      "Iteration 111, loss = 1.51705461\n",
      "Iteration 112, loss = 1.51701089\n",
      "Iteration 113, loss = 1.51718718\n",
      "Iteration 114, loss = 1.51693284\n",
      "Iteration 115, loss = 1.51670208\n",
      "Iteration 116, loss = 1.51667099\n",
      "Iteration 117, loss = 1.51656985\n",
      "Iteration 118, loss = 1.51639042\n",
      "Iteration 119, loss = 1.51629032\n",
      "Iteration 120, loss = 1.51594288\n",
      "Iteration 121, loss = 1.51585955\n",
      "Iteration 122, loss = 1.51586942\n",
      "Iteration 123, loss = 1.51559003\n",
      "Iteration 124, loss = 1.51577622\n",
      "Iteration 125, loss = 1.51562080\n",
      "Iteration 126, loss = 1.51552726\n",
      "Iteration 127, loss = 1.51539091\n",
      "Iteration 128, loss = 1.51529426\n",
      "Iteration 129, loss = 1.51520838\n",
      "Iteration 130, loss = 1.51512036\n",
      "Iteration 131, loss = 1.51468649\n",
      "Iteration 132, loss = 1.51455584\n",
      "Iteration 133, loss = 1.51467479\n",
      "Iteration 134, loss = 1.51441970\n",
      "Iteration 135, loss = 1.51451713\n",
      "Iteration 136, loss = 1.51430602\n",
      "Iteration 137, loss = 1.51436377\n",
      "Iteration 138, loss = 1.51416348\n",
      "Iteration 139, loss = 1.51403336\n",
      "Iteration 140, loss = 1.51426746\n",
      "Iteration 141, loss = 1.51388786\n",
      "Iteration 142, loss = 1.51357083\n",
      "Iteration 143, loss = 1.51348363\n",
      "Iteration 144, loss = 1.51353558\n",
      "Iteration 145, loss = 1.51345269\n",
      "Iteration 146, loss = 1.51346298\n",
      "Iteration 147, loss = 1.51313003\n",
      "Iteration 148, loss = 1.51303220\n",
      "Iteration 149, loss = 1.51305758\n",
      "Iteration 150, loss = 1.51303568\n",
      "Iteration 151, loss = 1.51287600\n",
      "Iteration 152, loss = 1.51278084\n",
      "Iteration 153, loss = 1.51267718\n",
      "Iteration 154, loss = 1.51252494\n",
      "Iteration 155, loss = 1.51248674\n",
      "Iteration 156, loss = 1.51252802\n",
      "Iteration 157, loss = 1.51214028\n",
      "Iteration 158, loss = 1.51212085\n",
      "Iteration 159, loss = 1.51226209\n",
      "Iteration 160, loss = 1.51215692\n",
      "Iteration 161, loss = 1.51199205\n",
      "Iteration 162, loss = 1.51162974\n",
      "Iteration 163, loss = 1.51172081\n",
      "Iteration 164, loss = 1.51179744\n",
      "Iteration 165, loss = 1.51167454\n",
      "Iteration 166, loss = 1.51151780\n",
      "Iteration 167, loss = 1.51159404\n",
      "Iteration 168, loss = 1.51131553\n",
      "Iteration 169, loss = 1.51134124\n",
      "Iteration 170, loss = 1.51133567\n",
      "Iteration 171, loss = 1.51121381\n",
      "Iteration 172, loss = 1.51089616\n",
      "Iteration 173, loss = 1.51115833\n",
      "Iteration 174, loss = 1.51102131\n",
      "Iteration 175, loss = 1.51057870\n",
      "Iteration 176, loss = 1.51082260\n",
      "Iteration 177, loss = 1.51080967\n",
      "Iteration 178, loss = 1.51084904\n",
      "Iteration 179, loss = 1.51064263\n",
      "Iteration 180, loss = 1.51049451\n",
      "Iteration 181, loss = 1.51056364\n",
      "Iteration 182, loss = 1.51058005\n",
      "Iteration 183, loss = 1.51017586\n",
      "Iteration 184, loss = 1.51025875\n",
      "Iteration 185, loss = 1.51022609\n",
      "Iteration 186, loss = 1.51011418\n",
      "Iteration 187, loss = 1.50995996\n",
      "Iteration 188, loss = 1.50997409\n",
      "Iteration 189, loss = 1.50983156\n",
      "Iteration 190, loss = 1.51001241\n",
      "Iteration 191, loss = 1.50976703\n",
      "Iteration 192, loss = 1.50980115\n",
      "Iteration 193, loss = 1.50950341\n",
      "Iteration 194, loss = 1.50967657\n",
      "Iteration 195, loss = 1.50940931\n",
      "Iteration 196, loss = 1.50926274\n",
      "Iteration 197, loss = 1.50911727\n",
      "Iteration 198, loss = 1.50921321\n",
      "Iteration 199, loss = 1.50908544\n",
      "Iteration 200, loss = 1.50933181\n"
     ]
    },
    {
     "data": {
      "text/plain": [
       "MLPClassifier(activation='logistic', batch_size=70,\n",
       "              hidden_layer_sizes=(100, 50, 25), learning_rate='adaptive',\n",
       "              verbose=True)"
      ]
     },
     "execution_count": 114,
     "metadata": {},
     "output_type": "execute_result"
    }
   ],
   "source": [
    "# mlp training\n",
    "mlp.fit(X_train, y_train)"
   ]
  },
  {
   "cell_type": "code",
   "execution_count": 116,
   "id": "rapid-dairy",
   "metadata": {},
   "outputs": [],
   "source": [
    "\n",
    "y_pred = mlp.predict(X_test)"
   ]
  },
  {
   "cell_type": "code",
   "execution_count": 117,
   "id": "affiliated-northwest",
   "metadata": {},
   "outputs": [
    {
     "name": "stdout",
     "output_type": "stream",
     "text": [
      "The accuracy score is:  0.40482058254902376 \n",
      "\n"
     ]
    }
   ],
   "source": [
    "# mlp prediction and evaluation\n",
    "y_pred = mlp.predict(X_test)\n",
    "print(\"The accuracy score is: \" ,accuracy_score(y_test, y_pred), \"\\n\")"
   ]
  },
  {
   "cell_type": "markdown",
   "id": "average-certification",
   "metadata": {},
   "source": [
    "###### - Inference\n",
    "\n",
    "###### MLP gave a better accuracy score, being a better classifier. MLP is a general purpose deep learning model so the accuracy can be built up upon, this doesnt mean the accuracy is good  40% accuracy is not near good in the health department"
   ]
  },
  {
   "cell_type": "markdown",
   "id": "religious-blood",
   "metadata": {},
   "source": [
    "## MLP parameter tuning experiments"
   ]
  },
  {
   "cell_type": "markdown",
   "id": "median-headquarters",
   "metadata": {},
   "source": [
    "### Activation functions"
   ]
  },
  {
   "cell_type": "code",
   "execution_count": 127,
   "id": "suspended-wholesale",
   "metadata": {},
   "outputs": [
    {
     "name": "stdout",
     "output_type": "stream",
     "text": [
      "The accuracy score for tanh activation function is:  0.39865941490152756 \n",
      "\n",
      "The accuracy score for logistic activation function is:  0.39075612398818754 \n",
      "\n",
      "The accuracy score for relu activation function is:  0.39846820625039836 \n",
      "\n",
      "The accuracy score for identity activation function is:  0.36388068580169536 \n",
      "\n"
     ]
    }
   ],
   "source": [
    "# tested with 4 different activation functions and got the accuracy score\n",
    "activations = ['tanh', 'logistic', 'relu', 'identity']\n",
    "for i in activations:\n",
    "    model = MLPClassifier(activation=i, max_iter=30)\n",
    "    model.fit(X_train, y_train)\n",
    "    y_pred = model.predict(X_test)\n",
    "    print(\"The accuracy score for {} activation function is: \".format(i) ,accuracy_score(y_test, y_pred), \"\\n\")"
   ]
  },
  {
   "cell_type": "markdown",
   "id": "collaborative-classic",
   "metadata": {},
   "source": [
    "###### - Inference\n",
    "\n",
    "###### Tanh had the best score giving accuracy score of 39.87% followed by 39.84% which is relu followed by logistic and identity activations"
   ]
  },
  {
   "cell_type": "markdown",
   "id": "south-webcam",
   "metadata": {},
   "source": [
    "### Layers"
   ]
  },
  {
   "cell_type": "code",
   "execution_count": 128,
   "id": "aggressive-heather",
   "metadata": {},
   "outputs": [
    {
     "name": "stdout",
     "output_type": "stream",
     "text": [
      "The accuracy score for 1 layers is:  0.39945611761456584 \n",
      "\n",
      "The accuracy score for 2 layers is:  0.39974293059125965 \n",
      "\n",
      "The accuracy score for 3 layers is:  0.4051180182285581 \n",
      "\n"
     ]
    }
   ],
   "source": [
    "# i used three different types of layers, \n",
    "layers = [(100,), (100, 50), (100, 50, 25)]\n",
    "for i in layers:\n",
    "    model = MLPClassifier(hidden_layer_sizes=i, max_iter=50)\n",
    "    model.fit(X_train, y_train)\n",
    "    y_pred = model.predict(X_test)\n",
    "    print(\"The accuracy score for {} layer(s) is: \".format(len(i)) ,accuracy_score(y_test, y_pred), \"\\n\")"
   ]
  },
  {
   "cell_type": "markdown",
   "id": "delayed-screw",
   "metadata": {},
   "source": [
    "###### - Inference\n",
    "\n",
    "###### The higher the number of hidden layers, the better the performance of the model. The shows that the data is highly non-linear, its a complex dataset. It not easy to model human life"
   ]
  },
  {
   "cell_type": "markdown",
   "id": "caring-chinese",
   "metadata": {},
   "source": [
    "### Learning rate"
   ]
  },
  {
   "cell_type": "code",
   "execution_count": 129,
   "id": "martial-conjunction",
   "metadata": {},
   "outputs": [
    {
     "name": "stdout",
     "output_type": "stream",
     "text": [
      "The accuracy score for 0.01 learning rate is:  0.39151033588986384 \n",
      "\n",
      "The accuracy score for 0.001 learning rate is:  0.38424440714695446 \n",
      "\n",
      "The accuracy score for 0.0001 learning rate is:  0.3685546750515201 \n",
      "\n",
      "The accuracy score for 1e-05 learning rate is:  0.33684590707259554 \n",
      "\n"
     ]
    }
   ],
   "source": [
    "# i used 4 different learning rates in this experiment\n",
    "rates = [0.01, 0.001, 0.0001, 0.00001]\n",
    "for i in rates:\n",
    "    model = MLPClassifier(solver='sgd',learning_rate_init=i, max_iter=50)\n",
    "    model.fit(X_train, y_train)\n",
    "    y_pred = model.predict(X_test)\n",
    "    print(\"The accuracy score for {} learning rate is: \".format(i) ,accuracy_score(y_test, y_pred), \"\\n\")"
   ]
  },
  {
   "cell_type": "markdown",
   "id": "backed-orchestra",
   "metadata": {},
   "source": [
    "###### - Infernce\n",
    "\n",
    "###### The best learning rate here was 0.01, with an accuracy of 39.15%, although this learning rate may prove to be worse in the long run, 50 epochs is not enough to draw conclusion that 0.01 is the best learning rate, more experiments needs to be done"
   ]
  },
  {
   "cell_type": "markdown",
   "id": "vocal-effect",
   "metadata": {},
   "source": [
    "### Epoch"
   ]
  },
  {
   "cell_type": "code",
   "execution_count": 131,
   "id": "separate-muslim",
   "metadata": {},
   "outputs": [
    {
     "name": "stdout",
     "output_type": "stream",
     "text": [
      "The accuracy score for 30 epochs is:  0.39656674244194695 \n",
      "\n",
      "The accuracy score for 50 epochs is:  0.40092205060655633 \n",
      "\n",
      "The accuracy score for 80 epochs is:  0.39817077057086403 \n",
      "\n",
      "The accuracy score for 150 epochs is:  0.4004758970872549 \n",
      "\n"
     ]
    }
   ],
   "source": [
    "epochs = [30, 50, 80, 150]\n",
    "for i in epochs:\n",
    "    model = MLPClassifier(max_iter=i)\n",
    "    model.fit(X_train, y_train)\n",
    "    y_pred = model.predict(X_test)\n",
    "    print(\"The accuracy score for {} epochs is: \".format(i) ,accuracy_score(y_test, y_pred), \"\\n\")"
   ]
  },
  {
   "cell_type": "markdown",
   "id": "addressed-massage",
   "metadata": {},
   "source": [
    "###### - Inference\n",
    "\n",
    "###### The result gives us two things. 1, the higher the epochs, the bestter the result. 2, We should save the model from each iteration then pick the one with the best result. Apparently, this is the reason for callbacks which we can set to save the best model during training. After 50 epochs we got a 40.09% accuracy, 80 gave 39.81% (reduced) then 150 epochs gave 40.05%, we can still add more epochs to check if we can get better results."
   ]
  },
  {
   "cell_type": "markdown",
   "id": "separated-sauce",
   "metadata": {},
   "source": [
    "### Momentum"
   ]
  },
  {
   "cell_type": "code",
   "execution_count": 132,
   "id": "imposed-fault",
   "metadata": {},
   "outputs": [
    {
     "name": "stdout",
     "output_type": "stream",
     "text": [
      "The accuracy score for 0.9 momentum is:  0.3977883532686057 \n",
      "\n",
      "The accuracy score for 0.7 momentum is:  0.38836601584907265 \n",
      "\n",
      "The accuracy score for 0.5 momentum is:  0.38343708173107566 \n",
      "\n",
      "The accuracy score for 0.3 momentum is:  0.381822430899318 \n",
      "\n"
     ]
    }
   ],
   "source": [
    "momentums = [0.9, 0.7, 0.5, 0.3]\n",
    "for i in momentums:\n",
    "    model = MLPClassifier(solver='sgd',momentum=i)\n",
    "    model.fit(X_train, y_train)\n",
    "    y_pred = model.predict(X_test)\n",
    "    print(\"The accuracy score for {} momentum is: \".format(i) ,accuracy_score(y_test, y_pred), \"\\n\")"
   ]
  },
  {
   "cell_type": "markdown",
   "id": "transsexual-strap",
   "metadata": {},
   "source": [
    "###### - Inference\n",
    "\n",
    "###### The momentum factor is an important parameter used with stochastic gradient descent. that's why we have solver='sgd'. The best momentum turned out to be 0.9. the lower it is, the worse the accurcay score gets. This means the smaller momentum will need more epochs to converge."
   ]
  },
  {
   "cell_type": "markdown",
   "id": "attended-practice",
   "metadata": {},
   "source": [
    "### Validation Threshold"
   ]
  },
  {
   "cell_type": "code",
   "execution_count": 133,
   "id": "latest-switzerland",
   "metadata": {},
   "outputs": [
    {
     "name": "stdout",
     "output_type": "stream",
     "text": [
      "The accuracy score for 10.0 % validation threshold is:  0.400603369521341 \n",
      "\n",
      "The accuracy score for 30.0 % validation threshold is:  0.39608872081412394 \n",
      "\n",
      "The accuracy score for 50.0 % validation threshold is:  0.39767150353736 \n",
      "\n"
     ]
    }
   ],
   "source": [
    "val_split = [0.1, 0.3, 0.5]\n",
    "for i in val_split:\n",
    "    model = MLPClassifier(early_stopping=True, validation_fraction=i)\n",
    "    model.fit(X_train, y_train)\n",
    "    y_pred = model.predict(X_test)\n",
    "    print(\"The accuracy score for {} % validation threshold is: \".format(i * 100) ,accuracy_score(y_test, y_pred), \"\\n\")"
   ]
  },
  {
   "cell_type": "markdown",
   "id": "organizational-enclosure",
   "metadata": {},
   "source": [
    "###### - Inference\n",
    "\n",
    "######  The model did well with less validation data and worse with more validation data. This says two things, the model needed more data to give a better accuracy, and the model doesnt do well with unseen data"
   ]
  },
  {
   "cell_type": "markdown",
   "id": "hungarian-uruguay",
   "metadata": {},
   "source": [
    "##### - Conclusion\n",
    "\n",
    "##### From the above, linear machine learning models didnt do well with the data, but when the use of MLP was employed, the accuracy increased. The MLP classifier understood the data better but could not find its global optimum. The data is a non-linear seprable data. and with more experiments, we can draw deduce more from the dataset"
   ]
  },
  {
   "cell_type": "markdown",
   "id": "differential-census",
   "metadata": {},
   "source": [
    "## Convolutional neural network modelling"
   ]
  },
  {
   "cell_type": "markdown",
   "id": "welsh-queen",
   "metadata": {},
   "source": [
    "### import deep learning packages to run the CNN model"
   ]
  },
  {
   "cell_type": "code",
   "execution_count": 134,
   "id": "instructional-spelling",
   "metadata": {},
   "outputs": [],
   "source": [
    "from tensorflow import keras\n",
    "from tensorflow.keras.models import Sequential,Model\n",
    "from tensorflow.keras.layers import Dense, Dropout, Flatten, LeakyReLU, Conv2D, MaxPooling2D, BatchNormalization\n",
    "from tensorflow.keras.utils import to_categorical\n",
    "import matplotlib.pyplot as plt\n",
    "%matplotlib inline"
   ]
  },
  {
   "cell_type": "markdown",
   "id": "organic-payroll",
   "metadata": {},
   "source": [
    "### Data Preparation for deep learning"
   ]
  },
  {
   "cell_type": "code",
   "execution_count": 214,
   "id": "flexible-engine",
   "metadata": {},
   "outputs": [
    {
     "name": "stdout",
     "output_type": "stream",
     "text": [
      "Training data shape :  (219655, 12) (219655,)\n",
      "Testing data shape :  (94138, 12) (94138,)\n"
     ]
    }
   ],
   "source": [
    "#shape of the train and test data\n",
    "print('Training data shape : ', X_train.shape, y_train.shape)\n",
    "\n",
    "print('Testing data shape : ', X_test.shape, y_test.shape)"
   ]
  },
  {
   "cell_type": "markdown",
   "id": "fatty-frontier",
   "metadata": {},
   "source": [
    "### Classes in the target"
   ]
  },
  {
   "cell_type": "code",
   "execution_count": 215,
   "id": "stunning-caribbean",
   "metadata": {},
   "outputs": [
    {
     "name": "stdout",
     "output_type": "stream",
     "text": [
      "Total number of outputs :  11\n",
      "Output classes :  [ 0  1  2  3  4  5  6  7  8  9 10]\n"
     ]
    }
   ],
   "source": [
    "# Find the unique numbers from the train labels\n",
    "classes = np.unique(y_train)\n",
    "nClasses = len(classes)\n",
    "print('Total number of outputs : ', nClasses)\n",
    "print('Output classes : ', classes)"
   ]
  },
  {
   "cell_type": "markdown",
   "id": "responsible-crazy",
   "metadata": {},
   "source": [
    "### Converting the target label to one hot encoding"
   ]
  },
  {
   "cell_type": "code",
   "execution_count": 216,
   "id": "german-player",
   "metadata": {},
   "outputs": [],
   "source": [
    "train_Y_one_hot = to_categorical(y_train)\n",
    "test_Y_one_hot = to_categorical(y_test)"
   ]
  },
  {
   "cell_type": "code",
   "execution_count": 235,
   "id": "covered-header",
   "metadata": {},
   "outputs": [
    {
     "data": {
      "text/plain": [
       "1"
      ]
     },
     "execution_count": 235,
     "metadata": {},
     "output_type": "execute_result"
    }
   ],
   "source": [
    "y_train[3]"
   ]
  },
  {
   "cell_type": "code",
   "execution_count": 234,
   "id": "representative-plaintiff",
   "metadata": {},
   "outputs": [
    {
     "data": {
      "text/plain": [
       "array([0., 1., 0., 0., 0., 0., 0., 0., 0., 0., 0.], dtype=float32)"
      ]
     },
     "execution_count": 234,
     "metadata": {},
     "output_type": "execute_result"
    }
   ],
   "source": [
    "train_Y_one_hot[3]"
   ]
  },
  {
   "cell_type": "markdown",
   "id": "global-durham",
   "metadata": {},
   "source": [
    "### Feature data reshaping (2D to 3D)"
   ]
  },
  {
   "cell_type": "code",
   "execution_count": 217,
   "id": "tough-responsibility",
   "metadata": {},
   "outputs": [
    {
     "name": "stdout",
     "output_type": "stream",
     "text": [
      "(219655, 3, 4, 1) (94138, 3, 4, 1) (219655, 11) (94138, 11)\n"
     ]
    }
   ],
   "source": [
    "# we are turning the train data from 2D(1,12) to 3D(3,4,1)\n",
    "train_X = X_train.reshape(-1, 3,4, 1)\n",
    "test_X = X_test.reshape(-1, 3,4, 1)\n",
    "print(train_X.shape, test_X.shape, train_Y_one_hot.shape, test_Y_one_hot.shape)"
   ]
  },
  {
   "cell_type": "markdown",
   "id": "multiple-alexander",
   "metadata": {},
   "source": [
    "### Train test splitting"
   ]
  },
  {
   "cell_type": "code",
   "execution_count": 218,
   "id": "brilliant-modem",
   "metadata": {},
   "outputs": [],
   "source": [
    "train_X,valid_X,train_label,valid_label = train_test_split(train_X, train_Y_one_hot,\n",
    "                                                           test_size=0.2, random_state=13)"
   ]
  },
  {
   "cell_type": "markdown",
   "id": "excellent-rating",
   "metadata": {},
   "source": [
    "### Modelling Parameters"
   ]
  },
  {
   "cell_type": "code",
   "execution_count": 219,
   "id": "pointed-entity",
   "metadata": {},
   "outputs": [],
   "source": [
    "#set training parameters\n",
    "batch_size = 25\n",
    "epochs = 200\n",
    "num_classes = nClasses"
   ]
  },
  {
   "cell_type": "markdown",
   "id": "directed-nevada",
   "metadata": {},
   "source": [
    "### Building the model with Sequential API"
   ]
  },
  {
   "cell_type": "code",
   "execution_count": 220,
   "id": "appropriate-classics",
   "metadata": {},
   "outputs": [],
   "source": [
    "cnn_model = Sequential()\n",
    "cnn_model.add(Conv2D(32, kernel_size=(3, 3),activation='relu',input_shape=(3,4,1),padding='same'))\n",
    "cnn_model.add(MaxPooling2D(pool_size=(2, 2),padding='same'))\n",
    "\n",
    "cnn_model.add(Conv2D(64, (3, 3), activation='linear',padding='same'))\n",
    "cnn_model.add(MaxPooling2D(pool_size=(2, 2),padding='same'))\n",
    "\n",
    "cnn_model.add(Flatten())\n",
    "\n",
    "cnn_model.add(Dense(100, activation='linear'))\n",
    "\n",
    "cnn_model.add(Dropout(0.4))\n",
    "\n",
    "cnn_model.add(Dense(nClasses, activation='softmax'))"
   ]
  },
  {
   "cell_type": "markdown",
   "id": "attended-beads",
   "metadata": {},
   "source": [
    "### Model compiling with categorical cross entropy and adam optimizer"
   ]
  },
  {
   "cell_type": "code",
   "execution_count": 221,
   "id": "fifty-courage",
   "metadata": {},
   "outputs": [],
   "source": [
    "cnn_model.compile(loss=keras.losses.categorical_crossentropy, \n",
    "                      optimizer=keras.optimizers.Adam(),metrics=['accuracy'])"
   ]
  },
  {
   "cell_type": "markdown",
   "id": "clean-pacific",
   "metadata": {},
   "source": [
    "### Model summary"
   ]
  },
  {
   "cell_type": "code",
   "execution_count": 222,
   "id": "thorough-theorem",
   "metadata": {},
   "outputs": [
    {
     "name": "stdout",
     "output_type": "stream",
     "text": [
      "Model: \"sequential_12\"\n",
      "_________________________________________________________________\n",
      "Layer (type)                 Output Shape              Param #   \n",
      "=================================================================\n",
      "conv2d_22 (Conv2D)           (None, 3, 4, 32)          320       \n",
      "_________________________________________________________________\n",
      "max_pooling2d_22 (MaxPooling (None, 2, 2, 32)          0         \n",
      "_________________________________________________________________\n",
      "conv2d_23 (Conv2D)           (None, 2, 2, 64)          18496     \n",
      "_________________________________________________________________\n",
      "max_pooling2d_23 (MaxPooling (None, 1, 1, 64)          0         \n",
      "_________________________________________________________________\n",
      "flatten_8 (Flatten)          (None, 64)                0         \n",
      "_________________________________________________________________\n",
      "dense_31 (Dense)             (None, 100)               6500      \n",
      "_________________________________________________________________\n",
      "dense_32 (Dense)             (None, 11)                1111      \n",
      "=================================================================\n",
      "Total params: 26,427\n",
      "Trainable params: 26,427\n",
      "Non-trainable params: 0\n",
      "_________________________________________________________________\n"
     ]
    }
   ],
   "source": [
    "cnn_model.summary()"
   ]
  },
  {
   "cell_type": "markdown",
   "id": "neither-infection",
   "metadata": {},
   "source": [
    "### Model training with the set parameters and validation data"
   ]
  },
  {
   "cell_type": "code",
   "execution_count": 224,
   "id": "integral-thailand",
   "metadata": {},
   "outputs": [
    {
     "name": "stdout",
     "output_type": "stream",
     "text": [
      "Epoch 1/200\n",
      "7029/7029 [==============================] - 6s 810us/step - loss: 1.6901 - accuracy: 0.3454 - val_loss: 1.6123 - val_accuracy: 0.3751\n",
      "Epoch 2/200\n",
      "7029/7029 [==============================] - 6s 829us/step - loss: 1.5942 - accuracy: 0.3811 - val_loss: 1.5861 - val_accuracy: 0.3857\n",
      "Epoch 3/200\n",
      "7029/7029 [==============================] - 6s 786us/step - loss: 1.5817 - accuracy: 0.3870 - val_loss: 1.5980 - val_accuracy: 0.3862\n",
      "Epoch 4/200\n",
      "7029/7029 [==============================] - 6s 788us/step - loss: 1.5735 - accuracy: 0.3889 - val_loss: 1.5761 - val_accuracy: 0.3892\n",
      "Epoch 5/200\n",
      "7029/7029 [==============================] - 5s 762us/step - loss: 1.5724 - accuracy: 0.3883 - val_loss: 1.5797 - val_accuracy: 0.3805\n",
      "Epoch 6/200\n",
      "7029/7029 [==============================] - 6s 821us/step - loss: 1.5649 - accuracy: 0.3913 - val_loss: 1.5640 - val_accuracy: 0.3931\n",
      "Epoch 7/200\n",
      "7029/7029 [==============================] - 6s 886us/step - loss: 1.5638 - accuracy: 0.3952 - val_loss: 1.5738 - val_accuracy: 0.3911\n",
      "Epoch 8/200\n",
      "7029/7029 [==============================] - 6s 917us/step - loss: 1.5636 - accuracy: 0.3922 - val_loss: 1.5679 - val_accuracy: 0.3940\n",
      "Epoch 9/200\n",
      "7029/7029 [==============================] - 6s 903us/step - loss: 1.5590 - accuracy: 0.3954 - val_loss: 1.5728 - val_accuracy: 0.3902\n",
      "Epoch 10/200\n",
      "7029/7029 [==============================] - 7s 946us/step - loss: 1.5519 - accuracy: 0.3981 - val_loss: 1.5636 - val_accuracy: 0.3965\n",
      "Epoch 11/200\n",
      "7029/7029 [==============================] - 7s 942us/step - loss: 1.5544 - accuracy: 0.3967 - val_loss: 1.5596 - val_accuracy: 0.3984\n",
      "Epoch 12/200\n",
      "7029/7029 [==============================] - 7s 940us/step - loss: 1.5485 - accuracy: 0.3982 - val_loss: 1.5819 - val_accuracy: 0.3855\n",
      "Epoch 13/200\n",
      "7029/7029 [==============================] - 6s 894us/step - loss: 1.5460 - accuracy: 0.3984 - val_loss: 1.5651 - val_accuracy: 0.3926\n",
      "Epoch 14/200\n",
      "7029/7029 [==============================] - 6s 917us/step - loss: 1.5469 - accuracy: 0.3997 - val_loss: 1.5665 - val_accuracy: 0.3928\n",
      "Epoch 15/200\n",
      "7029/7029 [==============================] - 6s 887us/step - loss: 1.5491 - accuracy: 0.3992 - val_loss: 1.5627 - val_accuracy: 0.3962\n",
      "Epoch 16/200\n",
      "7029/7029 [==============================] - 6s 891us/step - loss: 1.5493 - accuracy: 0.3962 - val_loss: 1.5625 - val_accuracy: 0.3924\n",
      "Epoch 17/200\n",
      "7029/7029 [==============================] - 6s 889us/step - loss: 1.5423 - accuracy: 0.4001 - val_loss: 1.5840 - val_accuracy: 0.3885\n",
      "Epoch 18/200\n",
      "7029/7029 [==============================] - 6s 882us/step - loss: 1.5432 - accuracy: 0.4015 - val_loss: 1.5714 - val_accuracy: 0.3824\n",
      "Epoch 19/200\n",
      "7029/7029 [==============================] - 6s 891us/step - loss: 1.5416 - accuracy: 0.3992 - val_loss: 1.5627 - val_accuracy: 0.3938\n",
      "Epoch 20/200\n",
      "7029/7029 [==============================] - 6s 894us/step - loss: 1.5399 - accuracy: 0.4015 - val_loss: 1.5685 - val_accuracy: 0.3929\n",
      "Epoch 21/200\n",
      "7029/7029 [==============================] - 6s 893us/step - loss: 1.5386 - accuracy: 0.4023 - val_loss: 1.5617 - val_accuracy: 0.3968\n",
      "Epoch 22/200\n",
      "7029/7029 [==============================] - 7s 925us/step - loss: 1.5396 - accuracy: 0.4023 - val_loss: 1.5627 - val_accuracy: 0.3971\n",
      "Epoch 23/200\n",
      "7029/7029 [==============================] - 7s 1ms/step - loss: 1.5363 - accuracy: 0.4030 - val_loss: 1.5570 - val_accuracy: 0.3946\n",
      "Epoch 24/200\n",
      "7029/7029 [==============================] - 6s 916us/step - loss: 1.5398 - accuracy: 0.4005 - val_loss: 1.5605 - val_accuracy: 0.3954\n",
      "Epoch 25/200\n",
      "7029/7029 [==============================] - 5s 779us/step - loss: 1.5412 - accuracy: 0.4011 - val_loss: 1.5593 - val_accuracy: 0.3980\n",
      "Epoch 26/200\n",
      "7029/7029 [==============================] - 5s 774us/step - loss: 1.5329 - accuracy: 0.4023 - val_loss: 1.5636 - val_accuracy: 0.3962\n",
      "Epoch 27/200\n",
      "7029/7029 [==============================] - 6s 794us/step - loss: 1.5345 - accuracy: 0.4036 - val_loss: 1.5678 - val_accuracy: 0.3901\n",
      "Epoch 28/200\n",
      "7029/7029 [==============================] - 5s 773us/step - loss: 1.5349 - accuracy: 0.4031 - val_loss: 1.5593 - val_accuracy: 0.3967\n",
      "Epoch 29/200\n",
      "7029/7029 [==============================] - 6s 802us/step - loss: 1.5334 - accuracy: 0.4038 - val_loss: 1.5625 - val_accuracy: 0.3920 -\n",
      "Epoch 30/200\n",
      "7029/7029 [==============================] - 5s 775us/step - loss: 1.5334 - accuracy: 0.4034 - val_loss: 1.5656 - val_accuracy: 0.3948\n",
      "Epoch 31/200\n",
      "7029/7029 [==============================] - 5s 767us/step - loss: 1.5304 - accuracy: 0.4048 - val_loss: 1.5680 - val_accuracy: 0.3866\n",
      "Epoch 32/200\n",
      "7029/7029 [==============================] - 5s 776us/step - loss: 1.5338 - accuracy: 0.4022 - val_loss: 1.5732 - val_accuracy: 0.3931\n",
      "Epoch 33/200\n",
      "7029/7029 [==============================] - 6s 805us/step - loss: 1.5279 - accuracy: 0.4058 - val_loss: 1.5591 - val_accuracy: 0.3932\n",
      "Epoch 34/200\n",
      "7029/7029 [==============================] - 6s 821us/step - loss: 1.5299 - accuracy: 0.4058 - val_loss: 1.5592 - val_accuracy: 0.3946\n",
      "Epoch 35/200\n",
      "7029/7029 [==============================] - 6s 790us/step - loss: 1.5286 - accuracy: 0.4068 - val_loss: 1.5680 - val_accuracy: 0.3973\n",
      "Epoch 36/200\n",
      "7029/7029 [==============================] - 6s 792us/step - loss: 1.5300 - accuracy: 0.4042 - val_loss: 1.5606 - val_accuracy: 0.3985\n",
      "Epoch 37/200\n",
      "7029/7029 [==============================] - 6s 790us/step - loss: 1.5249 - accuracy: 0.4056 - val_loss: 1.5671 - val_accuracy: 0.3944\n",
      "Epoch 38/200\n",
      "7029/7029 [==============================] - 6s 798us/step - loss: 1.5264 - accuracy: 0.4060 - val_loss: 1.5642 - val_accuracy: 0.3972\n",
      "Epoch 39/200\n",
      "7029/7029 [==============================] - 6s 794us/step - loss: 1.5297 - accuracy: 0.4065 - val_loss: 1.5668 - val_accuracy: 0.3920\n",
      "Epoch 40/200\n",
      "7029/7029 [==============================] - 6s 797us/step - loss: 1.5231 - accuracy: 0.4048 - val_loss: 1.5625 - val_accuracy: 0.3966\n",
      "Epoch 41/200\n",
      "7029/7029 [==============================] - 6s 793us/step - loss: 1.5266 - accuracy: 0.4054 - val_loss: 1.5616 - val_accuracy: 0.3975\n",
      "Epoch 42/200\n",
      "7029/7029 [==============================] - 6s 797us/step - loss: 1.5245 - accuracy: 0.4061 - val_loss: 1.5575 - val_accuracy: 0.3964\n",
      "Epoch 43/200\n",
      "7029/7029 [==============================] - 6s 809us/step - loss: 1.5233 - accuracy: 0.4075 - val_loss: 1.5634 - val_accuracy: 0.3936\n",
      "Epoch 44/200\n",
      "7029/7029 [==============================] - 6s 789us/step - loss: 1.5253 - accuracy: 0.4087 - val_loss: 1.5672 - val_accuracy: 0.3896\n",
      "Epoch 45/200\n",
      "7029/7029 [==============================] - 6s 798us/step - loss: 1.5215 - accuracy: 0.4071 - val_loss: 1.5619 - val_accuracy: 0.3943\n",
      "Epoch 46/200\n",
      "7029/7029 [==============================] - 6s 798us/step - loss: 1.5230 - accuracy: 0.4078 - val_loss: 1.5632 - val_accuracy: 0.393922\n",
      "Epoch 47/200\n",
      "7029/7029 [==============================] - 5s 775us/step - loss: 1.5253 - accuracy: 0.4079 - val_loss: 1.5670 - val_accuracy: 0.3867\n",
      "Epoch 48/200\n",
      "7029/7029 [==============================] - 6s 788us/step - loss: 1.5203 - accuracy: 0.4078 - val_loss: 1.5690 - val_accuracy: 0.3941\n",
      "Epoch 49/200\n",
      "7029/7029 [==============================] - 6s 803us/step - loss: 1.5247 - accuracy: 0.4061 - val_loss: 1.5707 - val_accuracy: 0.3943\n",
      "Epoch 50/200\n",
      "7029/7029 [==============================] - 6s 794us/step - loss: 1.5269 - accuracy: 0.4072 - val_loss: 1.5695 - val_accuracy: 0.3935\n",
      "Epoch 51/200\n",
      "7029/7029 [==============================] - 6s 784us/step - loss: 1.5172 - accuracy: 0.4095 - val_loss: 1.5626 - val_accuracy: 0.3959\n",
      "Epoch 52/200\n",
      "7029/7029 [==============================] - 6s 914us/step - loss: 1.5224 - accuracy: 0.4057 - val_loss: 1.5703 - val_accuracy: 0.3911\n",
      "Epoch 53/200\n",
      "7029/7029 [==============================] - 7s 930us/step - loss: 1.5183 - accuracy: 0.4116 - val_loss: 1.5715 - val_accuracy: 0.3921\n",
      "Epoch 54/200\n",
      "7029/7029 [==============================] - 7s 985us/step - loss: 1.5187 - accuracy: 0.4078 - val_loss: 1.5680 - val_accuracy: 0.3963\n",
      "Epoch 55/200\n",
      "7029/7029 [==============================] - 7s 1ms/step - loss: 1.5173 - accuracy: 0.4074 - val_loss: 1.5638 - val_accuracy: 0.3949\n",
      "Epoch 56/200\n",
      "7029/7029 [==============================] - 6s 903us/step - loss: 1.5154 - accuracy: 0.4085 - val_loss: 1.5690 - val_accuracy: 0.3929\n",
      "Epoch 57/200\n",
      "7029/7029 [==============================] - 6s 911us/step - loss: 1.5209 - accuracy: 0.4090 - val_loss: 1.5649 - val_accuracy: 0.3930\n",
      "Epoch 58/200\n",
      "7029/7029 [==============================] - 6s 881us/step - loss: 1.5174 - accuracy: 0.4105 - val_loss: 1.5603 - val_accuracy: 0.3970\n",
      "Epoch 59/200\n",
      "7029/7029 [==============================] - 6s 880us/step - loss: 1.5199 - accuracy: 0.4090 - val_loss: 1.5626 - val_accuracy: 0.3974\n",
      "Epoch 60/200\n",
      "7029/7029 [==============================] - 6s 891us/step - loss: 1.5134 - accuracy: 0.4096 - val_loss: 1.5705 - val_accuracy: 0.3934\n",
      "Epoch 61/200\n",
      "7029/7029 [==============================] - 6s 900us/step - loss: 1.5156 - accuracy: 0.4092 - val_loss: 1.5645 - val_accuracy: 0.3951\n",
      "Epoch 62/200\n",
      "7029/7029 [==============================] - 5s 768us/step - loss: 1.5158 - accuracy: 0.4104 - val_loss: 1.5704 - val_accuracy: 0.3896\n",
      "Epoch 63/200\n",
      "7029/7029 [==============================] - 5s 759us/step - loss: 1.5183 - accuracy: 0.4082 - val_loss: 1.5701 - val_accuracy: 0.3947\n",
      "Epoch 64/200\n",
      "7029/7029 [==============================] - 5s 755us/step - loss: 1.5165 - accuracy: 0.4076 - val_loss: 1.5680 - val_accuracy: 0.3891\n",
      "Epoch 65/200\n",
      "7029/7029 [==============================] - 5s 779us/step - loss: 1.5148 - accuracy: 0.4099 - val_loss: 1.5650 - val_accuracy: 0.3935\n",
      "Epoch 66/200\n",
      "7029/7029 [==============================] - 5s 758us/step - loss: 1.5120 - accuracy: 0.4102 - val_loss: 1.5633 - val_accuracy: 0.3920\n",
      "Epoch 67/200\n",
      "7029/7029 [==============================] - 5s 768us/step - loss: 1.5134 - accuracy: 0.4113 - val_loss: 1.5713 - val_accuracy: 0.3913\n",
      "Epoch 68/200\n",
      "7029/7029 [==============================] - 5s 759us/step - loss: 1.5152 - accuracy: 0.4097 - val_loss: 1.5770 - val_accuracy: 0.3890\n",
      "Epoch 69/200\n",
      "7029/7029 [==============================] - 5s 758us/step - loss: 1.5119 - accuracy: 0.4116 - val_loss: 1.5673 - val_accuracy: 0.3935\n",
      "Epoch 70/200\n",
      "7029/7029 [==============================] - 6s 794us/step - loss: 1.5120 - accuracy: 0.4122 - val_loss: 1.5661 - val_accuracy: 0.3938\n",
      "Epoch 71/200\n",
      "7029/7029 [==============================] - 6s 800us/step - loss: 1.5135 - accuracy: 0.4110 - val_loss: 1.5730 - val_accuracy: 0.3930\n",
      "Epoch 72/200\n",
      "7029/7029 [==============================] - 6s 796us/step - loss: 1.5127 - accuracy: 0.4113 - val_loss: 1.5717 - val_accuracy: 0.3924\n",
      "Epoch 73/200\n",
      "7029/7029 [==============================] - 5s 780us/step - loss: 1.5102 - accuracy: 0.4109 - val_loss: 1.5661 - val_accuracy: 0.3928\n",
      "Epoch 74/200\n",
      "7029/7029 [==============================] - 6s 794us/step - loss: 1.5122 - accuracy: 0.4112 - val_loss: 1.5679 - val_accuracy: 0.3905\n",
      "Epoch 75/200\n",
      "7029/7029 [==============================] - 5s 774us/step - loss: 1.5131 - accuracy: 0.4112 - val_loss: 1.5738 - val_accuracy: 0.3904\n",
      "Epoch 76/200\n",
      "7029/7029 [==============================] - 6s 783us/step - loss: 1.5092 - accuracy: 0.4102 - val_loss: 1.5672 - val_accuracy: 0.3937\n",
      "Epoch 77/200\n",
      "7029/7029 [==============================] - 6s 877us/step - loss: 1.5109 - accuracy: 0.4116 - val_loss: 1.5659 - val_accuracy: 0.3962\n",
      "Epoch 78/200\n",
      "7029/7029 [==============================] - 6s 896us/step - loss: 1.5103 - accuracy: 0.4101 - val_loss: 1.5701 - val_accuracy: 0.3955\n",
      "Epoch 79/200\n",
      "7029/7029 [==============================] - 6s 909us/step - loss: 1.5118 - accuracy: 0.4110 - val_loss: 1.5719 - val_accuracy: 0.3944\n",
      "Epoch 80/200\n",
      "7029/7029 [==============================] - 6s 894us/step - loss: 1.5098 - accuracy: 0.4117 - val_loss: 1.5718 - val_accuracy: 0.3946\n",
      "Epoch 81/200\n",
      "7029/7029 [==============================] - 7s 1ms/step - loss: 1.5119 - accuracy: 0.4121 - val_loss: 1.5784 - val_accuracy: 0.3921\n",
      "Epoch 82/200\n",
      "7029/7029 [==============================] - 7s 1ms/step - loss: 1.5098 - accuracy: 0.4127 - val_loss: 1.5695 - val_accuracy: 0.3915\n",
      "Epoch 83/200\n",
      "7029/7029 [==============================] - 7s 932us/step - loss: 1.5100 - accuracy: 0.4138 - val_loss: 1.5696 - val_accuracy: 0.3937\n",
      "Epoch 84/200\n",
      "7029/7029 [==============================] - 6s 889us/step - loss: 1.5114 - accuracy: 0.4112 - val_loss: 1.5802 - val_accuracy: 0.3815\n",
      "Epoch 85/200\n",
      "7029/7029 [==============================] - 7s 974us/step - loss: 1.5106 - accuracy: 0.4118 - val_loss: 1.5698 - val_accuracy: 0.3911\n",
      "Epoch 86/200\n",
      "7029/7029 [==============================] - 7s 985us/step - loss: 1.5096 - accuracy: 0.4114 - val_loss: 1.5677 - val_accuracy: 0.3927\n",
      "Epoch 87/200\n",
      "7029/7029 [==============================] - 6s 895us/step - loss: 1.5110 - accuracy: 0.4120 - val_loss: 1.5714 - val_accuracy: 0.3950\n",
      "Epoch 88/200\n",
      "7029/7029 [==============================] - 6s 834us/step - loss: 1.5108 - accuracy: 0.4109 - val_loss: 1.5681 - val_accuracy: 0.3945\n",
      "Epoch 89/200\n",
      "7029/7029 [==============================] - 5s 778us/step - loss: 1.5067 - accuracy: 0.4126 - val_loss: 1.5830 - val_accuracy: 0.3890\n",
      "Epoch 90/200\n",
      "7029/7029 [==============================] - 5s 764us/step - loss: 1.5057 - accuracy: 0.4140 - val_loss: 1.5715 - val_accuracy: 0.3890\n",
      "Epoch 91/200\n",
      "7029/7029 [==============================] - 5s 771us/step - loss: 1.5089 - accuracy: 0.4137 - val_loss: 1.5691 - val_accuracy: 0.3938\n",
      "Epoch 92/200\n",
      "7029/7029 [==============================] - 5s 751us/step - loss: 1.5098 - accuracy: 0.4110 - val_loss: 1.5746 - val_accuracy: 0.3920\n",
      "Epoch 93/200\n",
      "7029/7029 [==============================] - 5s 764us/step - loss: 1.5110 - accuracy: 0.4098 - val_loss: 1.5726 - val_accuracy: 0.3909\n",
      "Epoch 94/200\n",
      "7029/7029 [==============================] - 6s 804us/step - loss: 1.5059 - accuracy: 0.4141 - val_loss: 1.5690 - val_accuracy: 0.3923\n",
      "Epoch 95/200\n",
      "7029/7029 [==============================] - 6s 787us/step - loss: 1.5079 - accuracy: 0.4124 - val_loss: 1.5816 - val_accuracy: 0.3926\n",
      "Epoch 96/200\n",
      "7029/7029 [==============================] - 5s 776us/step - loss: 1.5068 - accuracy: 0.4143 - val_loss: 1.5700 - val_accuracy: 0.3931\n",
      "Epoch 97/200\n",
      "7029/7029 [==============================] - 6s 798us/step - loss: 1.5036 - accuracy: 0.4137 - val_loss: 1.5694 - val_accuracy: 0.3926\n",
      "Epoch 98/200\n",
      "7029/7029 [==============================] - 6s 812us/step - loss: 1.5058 - accuracy: 0.4125 - val_loss: 1.5786 - val_accuracy: 0.3915\n",
      "Epoch 99/200\n",
      "7029/7029 [==============================] - 6s 794us/step - loss: 1.5034 - accuracy: 0.4141 - val_loss: 1.5713 - val_accuracy: 0.3955\n",
      "Epoch 100/200\n",
      "7029/7029 [==============================] - 6s 801us/step - loss: 1.5045 - accuracy: 0.4143 - val_loss: 1.5735 - val_accuracy: 0.3950\n",
      "Epoch 101/200\n",
      "7029/7029 [==============================] - 6s 791us/step - loss: 1.5057 - accuracy: 0.4144 - val_loss: 1.5767 - val_accuracy: 0.3950\n",
      "Epoch 102/200\n",
      "7029/7029 [==============================] - 5s 774us/step - loss: 1.5028 - accuracy: 0.4152 - val_loss: 1.5776 - val_accuracy: 0.3896\n",
      "Epoch 103/200\n",
      "7029/7029 [==============================] - 6s 791us/step - loss: 1.5057 - accuracy: 0.4131 - val_loss: 1.5787 - val_accuracy: 0.3916\n",
      "Epoch 104/200\n",
      "7029/7029 [==============================] - 6s 874us/step - loss: 1.5044 - accuracy: 0.4129 - val_loss: 1.5732 - val_accuracy: 0.3912\n",
      "Epoch 105/200\n",
      "7029/7029 [==============================] - 6s 843us/step - loss: 1.5056 - accuracy: 0.4137 - val_loss: 1.5701 - val_accuracy: 0.3930\n",
      "Epoch 106/200\n",
      "7029/7029 [==============================] - 6s 866us/step - loss: 1.5048 - accuracy: 0.4127 - val_loss: 1.5709 - val_accuracy: 0.3938\n",
      "Epoch 107/200\n",
      "7029/7029 [==============================] - 6s 794us/step - loss: 1.5066 - accuracy: 0.4126 - val_loss: 1.5722 - val_accuracy: 0.3958\n",
      "Epoch 108/200\n",
      "7029/7029 [==============================] - 6s 792us/step - loss: 1.5060 - accuracy: 0.4151 - val_loss: 1.5687 - val_accuracy: 0.3940\n",
      "Epoch 109/200\n",
      "7029/7029 [==============================] - 6s 794us/step - loss: 1.5058 - accuracy: 0.4122 - val_loss: 1.5710 - val_accuracy: 0.3949\n",
      "Epoch 110/200\n",
      "7029/7029 [==============================] - 5s 757us/step - loss: 1.5048 - accuracy: 0.4125 - val_loss: 1.5766 - val_accuracy: 0.3915\n",
      "Epoch 111/200\n"
     ]
    },
    {
     "name": "stdout",
     "output_type": "stream",
     "text": [
      "7029/7029 [==============================] - 5s 757us/step - loss: 1.5034 - accuracy: 0.4149 - val_loss: 1.5752 - val_accuracy: 0.3927\n",
      "Epoch 112/200\n",
      "7029/7029 [==============================] - 5s 762us/step - loss: 1.5073 - accuracy: 0.4135 - val_loss: 1.5718 - val_accuracy: 0.3919\n",
      "Epoch 113/200\n",
      "7029/7029 [==============================] - 5s 763us/step - loss: 1.5057 - accuracy: 0.4131 - val_loss: 1.5783 - val_accuracy: 0.3892\n",
      "Epoch 114/200\n",
      "7029/7029 [==============================] - 5s 763us/step - loss: 1.5036 - accuracy: 0.4122 - val_loss: 1.5712 - val_accuracy: 0.3925\n",
      "Epoch 115/200\n",
      "7029/7029 [==============================] - 5s 761us/step - loss: 1.5014 - accuracy: 0.4144 - val_loss: 1.5751 - val_accuracy: 0.3944\n",
      "Epoch 116/200\n",
      "7029/7029 [==============================] - 5s 752us/step - loss: 1.5015 - accuracy: 0.4138 - val_loss: 1.5771 - val_accuracy: 0.3891\n",
      "Epoch 117/200\n",
      "7029/7029 [==============================] - 7s 943us/step - loss: 1.5038 - accuracy: 0.4140 - val_loss: 1.5818 - val_accuracy: 0.3936\n",
      "Epoch 118/200\n",
      "7029/7029 [==============================] - 5s 760us/step - loss: 1.5011 - accuracy: 0.4136 - val_loss: 1.5767 - val_accuracy: 0.3924\n",
      "Epoch 119/200\n",
      "7029/7029 [==============================] - 5s 758us/step - loss: 1.5024 - accuracy: 0.4148 - val_loss: 1.5815 - val_accuracy: 0.3854\n",
      "Epoch 120/200\n",
      "7029/7029 [==============================] - 5s 755us/step - loss: 1.5048 - accuracy: 0.4115 - val_loss: 1.5738 - val_accuracy: 0.3945\n",
      "Epoch 121/200\n",
      "7029/7029 [==============================] - 6s 789us/step - loss: 1.4987 - accuracy: 0.4149 - val_loss: 1.5791 - val_accuracy: 0.3934\n",
      "Epoch 122/200\n",
      "7029/7029 [==============================] - 5s 776us/step - loss: 1.5034 - accuracy: 0.4140 - val_loss: 1.5771 - val_accuracy: 0.3905\n",
      "Epoch 123/200\n",
      "7029/7029 [==============================] - 5s 762us/step - loss: 1.5031 - accuracy: 0.4143 - val_loss: 1.5726 - val_accuracy: 0.3972\n",
      "Epoch 124/200\n",
      "7029/7029 [==============================] - 5s 764us/step - loss: 1.5033 - accuracy: 0.4143 - val_loss: 1.5777 - val_accuracy: 0.3896\n",
      "Epoch 125/200\n",
      "7029/7029 [==============================] - 5s 769us/step - loss: 1.4999 - accuracy: 0.4148 - val_loss: 1.5777 - val_accuracy: 0.3895\n",
      "Epoch 126/200\n",
      "7029/7029 [==============================] - 6s 840us/step - loss: 1.4998 - accuracy: 0.4160 - val_loss: 1.5781 - val_accuracy: 0.3938\n",
      "Epoch 127/200\n",
      "7029/7029 [==============================] - 6s 798us/step - loss: 1.4993 - accuracy: 0.4154 - val_loss: 1.5751 - val_accuracy: 0.3944\n",
      "Epoch 128/200\n",
      "7029/7029 [==============================] - 6s 802us/step - loss: 1.5062 - accuracy: 0.4131 - val_loss: 1.5744 - val_accuracy: 0.3967\n",
      "Epoch 129/200\n",
      "7029/7029 [==============================] - 6s 798us/step - loss: 1.5009 - accuracy: 0.4157 - val_loss: 1.5714 - val_accuracy: 0.3966\n",
      "Epoch 130/200\n",
      "7029/7029 [==============================] - 6s 800us/step - loss: 1.4989 - accuracy: 0.4146 - val_loss: 1.5776 - val_accuracy: 0.3898\n",
      "Epoch 131/200\n",
      "7029/7029 [==============================] - 6s 798us/step - loss: 1.5031 - accuracy: 0.4141 - val_loss: 1.5780 - val_accuracy: 0.3952\n",
      "Epoch 132/200\n",
      "7029/7029 [==============================] - 6s 809us/step - loss: 1.5009 - accuracy: 0.4142 - val_loss: 1.5760 - val_accuracy: 0.3924\n",
      "Epoch 133/200\n",
      "7029/7029 [==============================] - 6s 819us/step - loss: 1.4991 - accuracy: 0.4178 - val_loss: 1.5784 - val_accuracy: 0.3937\n",
      "Epoch 134/200\n",
      "7029/7029 [==============================] - 6s 787us/step - loss: 1.4929 - accuracy: 0.4166 - val_loss: 1.5781 - val_accuracy: 0.3910\n",
      "Epoch 135/200\n",
      "7029/7029 [==============================] - 6s 800us/step - loss: 1.4986 - accuracy: 0.4144 - val_loss: 1.5811 - val_accuracy: 0.3874\n",
      "Epoch 136/200\n",
      "7029/7029 [==============================] - 6s 804us/step - loss: 1.4980 - accuracy: 0.4153 - val_loss: 1.5780 - val_accuracy: 0.3907\n",
      "Epoch 137/200\n",
      "7029/7029 [==============================] - 6s 806us/step - loss: 1.5004 - accuracy: 0.4151 - val_loss: 1.5781 - val_accuracy: 0.3910\n",
      "Epoch 138/200\n",
      "7029/7029 [==============================] - 6s 786us/step - loss: 1.4990 - accuracy: 0.4161 - val_loss: 1.5745 - val_accuracy: 0.3918\n",
      "Epoch 139/200\n",
      "7029/7029 [==============================] - 5s 782us/step - loss: 1.4947 - accuracy: 0.4186 - val_loss: 1.5787 - val_accuracy: 0.3928\n",
      "Epoch 140/200\n",
      "7029/7029 [==============================] - 6s 885us/step - loss: 1.4992 - accuracy: 0.4171 - val_loss: 1.5795 - val_accuracy: 0.3895\n",
      "Epoch 141/200\n",
      "7029/7029 [==============================] - 6s 892us/step - loss: 1.5015 - accuracy: 0.4143 - val_loss: 1.5786 - val_accuracy: 0.3941\n",
      "Epoch 142/200\n",
      "7029/7029 [==============================] - 6s 900us/step - loss: 1.5028 - accuracy: 0.4148 - val_loss: 1.5829 - val_accuracy: 0.3931\n",
      "Epoch 143/200\n",
      "7029/7029 [==============================] - 6s 898us/step - loss: 1.4977 - accuracy: 0.4149 - val_loss: 1.5776 - val_accuracy: 0.3930\n",
      "Epoch 144/200\n",
      "7029/7029 [==============================] - 6s 894us/step - loss: 1.4986 - accuracy: 0.4166 - val_loss: 1.5738 - val_accuracy: 0.3930\n",
      "Epoch 145/200\n",
      "7029/7029 [==============================] - 6s 897us/step - loss: 1.5001 - accuracy: 0.4157 - val_loss: 1.5829 - val_accuracy: 0.3924\n",
      "Epoch 146/200\n",
      "7029/7029 [==============================] - 7s 940us/step - loss: 1.4991 - accuracy: 0.4152 - val_loss: 1.5816 - val_accuracy: 0.3870\n",
      "Epoch 147/200\n",
      "7029/7029 [==============================] - 6s 907us/step - loss: 1.4981 - accuracy: 0.4142 - val_loss: 1.5898 - val_accuracy: 0.3890\n",
      "Epoch 148/200\n",
      "7029/7029 [==============================] - 7s 949us/step - loss: 1.4984 - accuracy: 0.4152 - val_loss: 1.5828 - val_accuracy: 0.3858\n",
      "Epoch 149/200\n",
      "7029/7029 [==============================] - 7s 946us/step - loss: 1.5000 - accuracy: 0.4155 - val_loss: 1.5866 - val_accuracy: 0.3912\n",
      "Epoch 150/200\n",
      "7029/7029 [==============================] - 7s 931us/step - loss: 1.4988 - accuracy: 0.4150 - val_loss: 1.5841 - val_accuracy: 0.3896\n",
      "Epoch 151/200\n",
      "7029/7029 [==============================] - 5s 782us/step - loss: 1.5023 - accuracy: 0.4140 - val_loss: 1.5745 - val_accuracy: 0.3942\n",
      "Epoch 152/200\n",
      "7029/7029 [==============================] - 6s 785us/step - loss: 1.5002 - accuracy: 0.4146 - val_loss: 1.5809 - val_accuracy: 0.3932\n",
      "Epoch 153/200\n",
      "7029/7029 [==============================] - 6s 803us/step - loss: 1.5011 - accuracy: 0.4141 - val_loss: 1.5818 - val_accuracy: 0.3929\n",
      "Epoch 154/200\n",
      "7029/7029 [==============================] - 6s 787us/step - loss: 1.4979 - accuracy: 0.4162 - val_loss: 1.5748 - val_accuracy: 0.3937\n",
      "Epoch 155/200\n",
      "7029/7029 [==============================] - 5s 763us/step - loss: 1.4971 - accuracy: 0.4154 - val_loss: 1.5771 - val_accuracy: 0.3915\n",
      "Epoch 156/200\n",
      "7029/7029 [==============================] - 5s 765us/step - loss: 1.4942 - accuracy: 0.4182 - val_loss: 1.5821 - val_accuracy: 0.3867\n",
      "Epoch 157/200\n",
      "7029/7029 [==============================] - 5s 764us/step - loss: 1.5002 - accuracy: 0.4150 - val_loss: 1.5820 - val_accuracy: 0.3916\n",
      "Epoch 158/200\n",
      "7029/7029 [==============================] - 5s 763us/step - loss: 1.4998 - accuracy: 0.4148 - val_loss: 1.5873 - val_accuracy: 0.3895\n",
      "Epoch 159/200\n",
      "7029/7029 [==============================] - 5s 763us/step - loss: 1.4970 - accuracy: 0.4137 - val_loss: 1.5833 - val_accuracy: 0.3923\n",
      "Epoch 160/200\n",
      "7029/7029 [==============================] - 5s 771us/step - loss: 1.4983 - accuracy: 0.4154 - val_loss: 1.5838 - val_accuracy: 0.3930\n",
      "Epoch 161/200\n",
      "7029/7029 [==============================] - 5s 768us/step - loss: 1.4965 - accuracy: 0.4154 - val_loss: 1.5803 - val_accuracy: 0.3912\n",
      "Epoch 162/200\n",
      "7029/7029 [==============================] - 5s 763us/step - loss: 1.4956 - accuracy: 0.4170 - val_loss: 1.5809 - val_accuracy: 0.3921\n",
      "Epoch 163/200\n",
      "7029/7029 [==============================] - 5s 763us/step - loss: 1.5008 - accuracy: 0.4146 - val_loss: 1.5847 - val_accuracy: 0.3928\n",
      "Epoch 164/200\n",
      "7029/7029 [==============================] - 5s 766us/step - loss: 1.4990 - accuracy: 0.4171 - val_loss: 1.5758 - val_accuracy: 0.3949\n",
      "Epoch 165/200\n",
      "7029/7029 [==============================] - 5s 762us/step - loss: 1.4974 - accuracy: 0.4149 - val_loss: 1.5808 - val_accuracy: 0.3940\n",
      "Epoch 166/200\n"
     ]
    },
    {
     "name": "stdout",
     "output_type": "stream",
     "text": [
      "7029/7029 [==============================] - 5s 751us/step - loss: 1.4968 - accuracy: 0.4161 - val_loss: 1.5824 - val_accuracy: 0.3913\n",
      "Epoch 167/200\n",
      "7029/7029 [==============================] - 5s 750us/step - loss: 1.4953 - accuracy: 0.4163 - val_loss: 1.5802 - val_accuracy: 0.3908\n",
      "Epoch 168/200\n",
      "7029/7029 [==============================] - 5s 779us/step - loss: 1.4933 - accuracy: 0.4175 - val_loss: 1.5847 - val_accuracy: 0.3859\n",
      "Epoch 169/200\n",
      "7029/7029 [==============================] - 5s 753us/step - loss: 1.4980 - accuracy: 0.4155 - val_loss: 1.5811 - val_accuracy: 0.3906\n",
      "Epoch 170/200\n",
      "7029/7029 [==============================] - 5s 760us/step - loss: 1.4934 - accuracy: 0.4189 - val_loss: 1.5836 - val_accuracy: 0.3910\n",
      "Epoch 171/200\n",
      "7029/7029 [==============================] - 5s 762us/step - loss: 1.4994 - accuracy: 0.4186 - val_loss: 1.5777 - val_accuracy: 0.3911\n",
      "Epoch 172/200\n",
      "7029/7029 [==============================] - 5s 754us/step - loss: 1.4980 - accuracy: 0.4170 - val_loss: 1.5838 - val_accuracy: 0.3853\n",
      "Epoch 173/200\n",
      "7029/7029 [==============================] - 5s 765us/step - loss: 1.4963 - accuracy: 0.4167 - val_loss: 1.5806 - val_accuracy: 0.3899\n",
      "Epoch 174/200\n",
      "7029/7029 [==============================] - 5s 758us/step - loss: 1.4927 - accuracy: 0.4167 - val_loss: 1.5850 - val_accuracy: 0.3881\n",
      "Epoch 175/200\n",
      "7029/7029 [==============================] - 5s 756us/step - loss: 1.4949 - accuracy: 0.4176 - val_loss: 1.5804 - val_accuracy: 0.3920\n",
      "Epoch 176/200\n",
      "7029/7029 [==============================] - 5s 754us/step - loss: 1.4951 - accuracy: 0.4180 - val_loss: 1.5854 - val_accuracy: 0.3886\n",
      "Epoch 177/200\n",
      "7029/7029 [==============================] - 5s 756us/step - loss: 1.4974 - accuracy: 0.4154 - val_loss: 1.5860 - val_accuracy: 0.3878\n",
      "Epoch 178/200\n",
      "7029/7029 [==============================] - 6s 826us/step - loss: 1.4978 - accuracy: 0.4144 - val_loss: 1.5844 - val_accuracy: 0.3882\n",
      "Epoch 179/200\n",
      "7029/7029 [==============================] - 5s 777us/step - loss: 1.4985 - accuracy: 0.4156 - val_loss: 1.5931 - val_accuracy: 0.3842\n",
      "Epoch 180/200\n",
      "7029/7029 [==============================] - 5s 766us/step - loss: 1.4970 - accuracy: 0.4171 - val_loss: 1.5807 - val_accuracy: 0.3921\n",
      "Epoch 181/200\n",
      "7029/7029 [==============================] - 6s 784us/step - loss: 1.4947 - accuracy: 0.4174 - val_loss: 1.5808 - val_accuracy: 0.3935\n",
      "Epoch 182/200\n",
      "7029/7029 [==============================] - 5s 779us/step - loss: 1.4959 - accuracy: 0.4158 - val_loss: 1.5838 - val_accuracy: 0.3916\n",
      "Epoch 183/200\n",
      "7029/7029 [==============================] - 5s 775us/step - loss: 1.4943 - accuracy: 0.4178 - val_loss: 1.5851 - val_accuracy: 0.3875\n",
      "Epoch 184/200\n",
      "7029/7029 [==============================] - 6s 789us/step - loss: 1.4964 - accuracy: 0.4162 - val_loss: 1.5867 - val_accuracy: 0.3885\n",
      "Epoch 185/200\n",
      "7029/7029 [==============================] - 6s 787us/step - loss: 1.4968 - accuracy: 0.4159 - val_loss: 1.5936 - val_accuracy: 0.3850\n",
      "Epoch 186/200\n",
      "7029/7029 [==============================] - 5s 769us/step - loss: 1.4966 - accuracy: 0.4173 - val_loss: 1.5826 - val_accuracy: 0.3947\n",
      "Epoch 187/200\n",
      "7029/7029 [==============================] - 5s 770us/step - loss: 1.4973 - accuracy: 0.4167 - val_loss: 1.5828 - val_accuracy: 0.3905\n",
      "Epoch 188/200\n",
      "7029/7029 [==============================] - 5s 770us/step - loss: 1.4942 - accuracy: 0.4182 - val_loss: 1.5893 - val_accuracy: 0.3929\n",
      "Epoch 189/200\n",
      "7029/7029 [==============================] - 6s 783us/step - loss: 1.4953 - accuracy: 0.4170 - val_loss: 1.5879 - val_accuracy: 0.3874\n",
      "Epoch 190/200\n",
      "7029/7029 [==============================] - 6s 855us/step - loss: 1.4971 - accuracy: 0.4159 - val_loss: 1.5825 - val_accuracy: 0.3916\n",
      "Epoch 191/200\n",
      "7029/7029 [==============================] - 6s 847us/step - loss: 1.4939 - accuracy: 0.4184 - val_loss: 1.5851 - val_accuracy: 0.3932\n",
      "Epoch 192/200\n",
      "7029/7029 [==============================] - 6s 908us/step - loss: 1.4935 - accuracy: 0.4194 - val_loss: 1.5790 - val_accuracy: 0.3939\n",
      "Epoch 193/200\n",
      "7029/7029 [==============================] - 6s 851us/step - loss: 1.4958 - accuracy: 0.4176 - val_loss: 1.5823 - val_accuracy: 0.3946\n",
      "Epoch 194/200\n",
      "7029/7029 [==============================] - 6s 824us/step - loss: 1.4917 - accuracy: 0.4192 - val_loss: 1.5820 - val_accuracy: 0.3916\n",
      "Epoch 195/200\n",
      "7029/7029 [==============================] - 6s 795us/step - loss: 1.4952 - accuracy: 0.4181 - val_loss: 1.5849 - val_accuracy: 0.3914\n",
      "Epoch 196/200\n",
      "7029/7029 [==============================] - 6s 784us/step - loss: 1.4974 - accuracy: 0.4180 - val_loss: 1.5854 - val_accuracy: 0.3936\n",
      "Epoch 197/200\n",
      "7029/7029 [==============================] - 5s 780us/step - loss: 1.4971 - accuracy: 0.4167 - val_loss: 1.5770 - val_accuracy: 0.3915\n",
      "Epoch 198/200\n",
      "7029/7029 [==============================] - 5s 781us/step - loss: 1.4994 - accuracy: 0.4178 - val_loss: 1.5907 - val_accuracy: 0.3861\n",
      "Epoch 199/200\n",
      "7029/7029 [==============================] - 5s 751us/step - loss: 1.4905 - accuracy: 0.4194 - val_loss: 1.5819 - val_accuracy: 0.3890\n",
      "Epoch 200/200\n",
      "7029/7029 [==============================] - 6s 799us/step - loss: 1.4975 - accuracy: 0.4152 - val_loss: 1.5884 - val_accuracy: 0.3870\n"
     ]
    }
   ],
   "source": [
    "cnn_train = cnn_model.fit(train_X, train_label, batch_size=batch_size ,epochs=epochs,verbose=1,\n",
    "                                 validation_data=(valid_X, valid_label))"
   ]
  },
  {
   "cell_type": "markdown",
   "id": "western-surname",
   "metadata": {},
   "source": [
    "### Model performance visualization"
   ]
  },
  {
   "cell_type": "code",
   "execution_count": 229,
   "id": "sensitive-cisco",
   "metadata": {
    "scrolled": false
   },
   "outputs": [
    {
     "data": {
      "image/png": "[encoded data removed]",
      "text/plain": [
       "<Figure size 864x576 with 1 Axes>"
      ]
     },
     "metadata": {
      "needs_background": "light"
     },
     "output_type": "display_data"
    },
    {
     "data": {
      "image/png": "[encoded data removed]",
      "text/plain": [
       "<Figure size 864x576 with 1 Axes>"
      ]
     },
     "metadata": {
      "needs_background": "light"
     },
     "output_type": "display_data"
    }
   ],
   "source": [
    "accuracy = cnn_train.history['accuracy']\n",
    "val_accuracy = cnn_train.history['val_accuracy']\n",
    "loss = cnn_train.history['loss']\n",
    "val_loss = cnn_train.history['val_loss']\n",
    "epochs = range(len(accuracy))\n",
    "plt.figure(figsize=(12,8))\n",
    "plt.plot(epochs, accuracy, 'bo', label='Training accuracy')\n",
    "\n",
    "plt.plot(epochs, val_accuracy, 'b', label='Validation accuracy')\n",
    "plt.title('Training and validation accuracy')\n",
    "plt.legend()\n",
    "plt.figure(figsize=(12,8))\n",
    "plt.plot(epochs, loss, 'bo', label='Training loss')\n",
    "plt.plot(epochs, val_loss, 'b', label='Validation loss')\n",
    "plt.title('Training and validation loss')\n",
    "plt.legend()\n",
    "plt.show()"
   ]
  },
  {
   "cell_type": "markdown",
   "id": "informed-problem",
   "metadata": {},
   "source": [
    "### Model evaluation"
   ]
  },
  {
   "cell_type": "markdown",
   "id": "featured-gregory",
   "metadata": {},
   "source": [
    "#### validation data"
   ]
  },
  {
   "cell_type": "code",
   "execution_count": 232,
   "id": "sophisticated-observation",
   "metadata": {},
   "outputs": [
    {
     "name": "stdout",
     "output_type": "stream",
     "text": [
      "1373/1373 [==============================] - 1s 546us/step - loss: 1.5884 - accuracy: 0.3870\n"
     ]
    },
    {
     "data": {
      "text/plain": [
       "[1.5884445905685425, 0.3869932293891907]"
      ]
     },
     "execution_count": 232,
     "metadata": {},
     "output_type": "execute_result"
    }
   ],
   "source": [
    "cnn_model.evaluate(valid_X, valid_label)"
   ]
  },
  {
   "cell_type": "markdown",
   "id": "about-traveler",
   "metadata": {},
   "source": [
    "#### Training data"
   ]
  },
  {
   "cell_type": "code",
   "execution_count": 233,
   "id": "intimate-warner",
   "metadata": {},
   "outputs": [
    {
     "name": "stdout",
     "output_type": "stream",
     "text": [
      "5492/5492 [==============================] - 3s 524us/step - loss: 1.4938 - accuracy: 0.4165\n"
     ]
    },
    {
     "data": {
      "text/plain": [
       "[1.4938411712646484, 0.4164940416812897]"
      ]
     },
     "execution_count": 233,
     "metadata": {},
     "output_type": "execute_result"
    }
   ],
   "source": [
    "cnn_model.evaluate(train_X, train_label)"
   ]
  },
  {
   "cell_type": "markdown",
   "id": "searching-memorabilia",
   "metadata": {},
   "source": [
    "###### - Inference\n",
    "\n",
    "###### This score of 42% accuracy turned out to be the best so far. CNN model is doing better with the data. CNN is a specialized model so its expected to do well but we cant settle for 42%, its poor, we need to tune the model parameters towards better performance"
   ]
  },
  {
   "cell_type": "markdown",
   "id": "printable-philadelphia",
   "metadata": {},
   "source": [
    "###### -----------------------------------------------------------------------------------------------------------------------------------------------------------------"
   ]
  },
  {
   "cell_type": "markdown",
   "id": "intermediate-medication",
   "metadata": {},
   "source": [
    "# Part 5"
   ]
  },
  {
   "cell_type": "markdown",
   "id": "impossible-anderson",
   "metadata": {},
   "source": [
    "###### From the previous 4 parts, i have been understood the place of feature importance, data mining, machine learning and deep learning. I took so much time on the part 4 because the fact that even CNN model couldn't get the best out of this data. Then there has to be something unique about it, even on Kaggle, the highest accuracy score was about 42~45% . Having to understand more about the dataset, my Research question is \"Why is it so difficult to model how long an individual will Stay in an  Hospital upon admission?\""
   ]
  },
  {
   "cell_type": "markdown",
   "id": "following-telling",
   "metadata": {},
   "source": [
    "###### -"
   ]
  },
  {
   "cell_type": "markdown",
   "id": "certain-technical",
   "metadata": {},
   "source": [
    "###### We are going to look at the target from a different perspective. I am proposing to experiment with all variations of the RNN - Recurrent neural network. When we were exprimenting with different activation functions, tanh activation turned out to be the best. It got me wondering and i did some findings, tanh activation function has differnet points, -1, 0 and 1. These are different points that follow themselves and i got to see that tanh activation is mostly used with Recurrent neural network. Secondly, CNN being a specialized model could genralize well with the data gave more conviction that we need to try RNN whether GRU, LSTM or RNN. Even looking at the normal human life, the event of the past shape our future. Hence, we need to model this data with RNN variations"
   ]
  },
  {
   "cell_type": "markdown",
   "id": "descending-temple",
   "metadata": {},
   "source": [
    "###### I plan on using Bi-directional LSTM , normal LSTM, GRU and RNN models during this research. as i dont want to eliminate the possibility of deriving new research questions by focusing solely on my research purpose."
   ]
  }
 ],
 "metadata": {
  "kernelspec": {
   "display_name": "Python 3",
   "language": "python",
   "name": "python3"
  },
  "language_info": {
   "codemirror_mode": {
    "name": "ipython",
    "version": 3
   },
   "file_extension": ".py",
   "mimetype": "text/x-python",
   "name": "python",
   "nbconvert_exporter": "python",
   "pygments_lexer": "ipython3",
   "version": "3.8.8"
  },
  "toc": {
   "base_numbering": 1,
   "nav_menu": {},
   "number_sections": true,
   "sideBar": true,
   "skip_h1_title": false,
   "title_cell": "Table of Contents",
   "title_sidebar": "Contents",
   "toc_cell": false,
   "toc_position": {},
   "toc_section_display": true,
   "toc_window_display": false
  },
  "varInspector": {
   "cols": {
    "lenName": 16,
    "lenType": 16,
    "lenVar": 40
   },
   "kernels_config": {
    "python": {
     "delete_cmd_postfix": "",
     "delete_cmd_prefix": "del ",
     "library": "var_list.py",
     "varRefreshCmd": "print(var_dic_list())"
    },
    "r": {
     "delete_cmd_postfix": ") ",
     "delete_cmd_prefix": "rm(",
     "library": "var_list.r",
     "varRefreshCmd": "cat(var_dic_list()) "
    }
   },
   "types_to_exclude": [
    "module",
    "function",
    "builtin_function_or_method",
    "instance",
    "_Feature"
   ],
   "window_display": false
  }
 },
 "nbformat": 4,
 "nbformat_minor": 5
}
