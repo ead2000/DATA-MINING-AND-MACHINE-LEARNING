{
 "cells": [
  {
   "cell_type": "markdown",
   "id": "increased-fabric",
   "metadata": {},
   "source": [
    "## Import packages to be used"
   ]
  },
  {
   "cell_type": "code",
   "execution_count": 1,
   "id": "administrative-vacation",
   "metadata": {},
   "outputs": [],
   "source": [
    "import pandas as pd\n",
    "import numpy as np\n",
    "\n",
    "from sklearn.preprocessing import LabelEncoder\n",
    "from sklearn.preprocessing import StandardScaler\n",
    "from sklearn.model_selection import train_test_split\n",
    "\n",
    "from sklearn.model_selection import KFold\n",
    "from sklearn.model_selection import cross_validate\n",
    "\n",
    "from sklearn.tree import DecisionTreeClassifier\n",
    "from sklearn.ensemble import RandomForestClassifier\n",
    "\n",
    "from sklearn.metrics import accuracy_score, precision_score, f1_score, recall_score\n",
    "import warnings\n",
    "warnings.filterwarnings(\"ignore\")"
   ]
  },
  {
   "cell_type": "markdown",
   "id": "bored-weapon",
   "metadata": {},
   "source": [
    "## Import Data"
   ]
  },
  {
   "cell_type": "code",
   "execution_count": 2,
   "id": "annoying-mystery",
   "metadata": {},
   "outputs": [],
   "source": [
    "df = pd.read_csv(\"train_data.csv\")"
   ]
  },
  {
   "cell_type": "markdown",
   "id": "abroad-collector",
   "metadata": {},
   "source": [
    "## Preview"
   ]
  },
  {
   "cell_type": "code",
   "execution_count": 3,
   "id": "naked-douglas",
   "metadata": {},
   "outputs": [
    {
     "data": {
      "text/html": [
       "<div>\n",
       "<style scoped>\n",
       "    .dataframe tbody tr th:only-of-type {\n",
       "        vertical-align: middle;\n",
       "    }\n",
       "\n",
       "    .dataframe tbody tr th {\n",
       "        vertical-align: top;\n",
       "    }\n",
       "\n",
       "    .dataframe thead th {\n",
       "        text-align: right;\n",
       "    }\n",
       "</style>\n",
       "<table border=\"1\" class=\"dataframe\">\n",
       "  <thead>\n",
       "    <tr style=\"text-align: right;\">\n",
       "      <th></th>\n",
       "      <th>case_id</th>\n",
       "      <th>Hospital_code</th>\n",
       "      <th>Hospital_type_code</th>\n",
       "      <th>City_Code_Hospital</th>\n",
       "      <th>Hospital_region_code</th>\n",
       "      <th>Available Extra Rooms in Hospital</th>\n",
       "      <th>Department</th>\n",
       "      <th>Ward_Type</th>\n",
       "      <th>Ward_Facility_Code</th>\n",
       "      <th>Bed Grade</th>\n",
       "      <th>patientid</th>\n",
       "      <th>City_Code_Patient</th>\n",
       "      <th>Type of Admission</th>\n",
       "      <th>Severity of Illness</th>\n",
       "      <th>Visitors with Patient</th>\n",
       "      <th>Age</th>\n",
       "      <th>Admission_Deposit</th>\n",
       "      <th>Stay</th>\n",
       "    </tr>\n",
       "  </thead>\n",
       "  <tbody>\n",
       "    <tr>\n",
       "      <th>0</th>\n",
       "      <td>1</td>\n",
       "      <td>8</td>\n",
       "      <td>c</td>\n",
       "      <td>3</td>\n",
       "      <td>Z</td>\n",
       "      <td>3</td>\n",
       "      <td>radiotherapy</td>\n",
       "      <td>R</td>\n",
       "      <td>F</td>\n",
       "      <td>2.0</td>\n",
       "      <td>31397</td>\n",
       "      <td>7.0</td>\n",
       "      <td>Emergency</td>\n",
       "      <td>Extreme</td>\n",
       "      <td>2</td>\n",
       "      <td>51-60</td>\n",
       "      <td>4911.0</td>\n",
       "      <td>0-10</td>\n",
       "    </tr>\n",
       "    <tr>\n",
       "      <th>1</th>\n",
       "      <td>2</td>\n",
       "      <td>2</td>\n",
       "      <td>c</td>\n",
       "      <td>5</td>\n",
       "      <td>Z</td>\n",
       "      <td>2</td>\n",
       "      <td>radiotherapy</td>\n",
       "      <td>S</td>\n",
       "      <td>F</td>\n",
       "      <td>2.0</td>\n",
       "      <td>31397</td>\n",
       "      <td>7.0</td>\n",
       "      <td>Trauma</td>\n",
       "      <td>Extreme</td>\n",
       "      <td>2</td>\n",
       "      <td>51-60</td>\n",
       "      <td>5954.0</td>\n",
       "      <td>41-50</td>\n",
       "    </tr>\n",
       "    <tr>\n",
       "      <th>2</th>\n",
       "      <td>3</td>\n",
       "      <td>10</td>\n",
       "      <td>e</td>\n",
       "      <td>1</td>\n",
       "      <td>X</td>\n",
       "      <td>2</td>\n",
       "      <td>anesthesia</td>\n",
       "      <td>S</td>\n",
       "      <td>E</td>\n",
       "      <td>2.0</td>\n",
       "      <td>31397</td>\n",
       "      <td>7.0</td>\n",
       "      <td>Trauma</td>\n",
       "      <td>Extreme</td>\n",
       "      <td>2</td>\n",
       "      <td>51-60</td>\n",
       "      <td>4745.0</td>\n",
       "      <td>31-40</td>\n",
       "    </tr>\n",
       "    <tr>\n",
       "      <th>3</th>\n",
       "      <td>4</td>\n",
       "      <td>26</td>\n",
       "      <td>b</td>\n",
       "      <td>2</td>\n",
       "      <td>Y</td>\n",
       "      <td>2</td>\n",
       "      <td>radiotherapy</td>\n",
       "      <td>R</td>\n",
       "      <td>D</td>\n",
       "      <td>2.0</td>\n",
       "      <td>31397</td>\n",
       "      <td>7.0</td>\n",
       "      <td>Trauma</td>\n",
       "      <td>Extreme</td>\n",
       "      <td>2</td>\n",
       "      <td>51-60</td>\n",
       "      <td>7272.0</td>\n",
       "      <td>41-50</td>\n",
       "    </tr>\n",
       "    <tr>\n",
       "      <th>4</th>\n",
       "      <td>5</td>\n",
       "      <td>26</td>\n",
       "      <td>b</td>\n",
       "      <td>2</td>\n",
       "      <td>Y</td>\n",
       "      <td>2</td>\n",
       "      <td>radiotherapy</td>\n",
       "      <td>S</td>\n",
       "      <td>D</td>\n",
       "      <td>2.0</td>\n",
       "      <td>31397</td>\n",
       "      <td>7.0</td>\n",
       "      <td>Trauma</td>\n",
       "      <td>Extreme</td>\n",
       "      <td>2</td>\n",
       "      <td>51-60</td>\n",
       "      <td>5558.0</td>\n",
       "      <td>41-50</td>\n",
       "    </tr>\n",
       "  </tbody>\n",
       "</table>\n",
       "</div>"
      ],
      "text/plain": [
       "   case_id  Hospital_code Hospital_type_code  City_Code_Hospital  \\\n",
       "0        1              8                  c                   3   \n",
       "1        2              2                  c                   5   \n",
       "2        3             10                  e                   1   \n",
       "3        4             26                  b                   2   \n",
       "4        5             26                  b                   2   \n",
       "\n",
       "  Hospital_region_code  Available Extra Rooms in Hospital    Department  \\\n",
       "0                    Z                                  3  radiotherapy   \n",
       "1                    Z                                  2  radiotherapy   \n",
       "2                    X                                  2    anesthesia   \n",
       "3                    Y                                  2  radiotherapy   \n",
       "4                    Y                                  2  radiotherapy   \n",
       "\n",
       "  Ward_Type Ward_Facility_Code  Bed Grade  patientid  City_Code_Patient  \\\n",
       "0         R                  F        2.0      31397                7.0   \n",
       "1         S                  F        2.0      31397                7.0   \n",
       "2         S                  E        2.0      31397                7.0   \n",
       "3         R                  D        2.0      31397                7.0   \n",
       "4         S                  D        2.0      31397                7.0   \n",
       "\n",
       "  Type of Admission Severity of Illness  Visitors with Patient    Age  \\\n",
       "0         Emergency             Extreme                      2  51-60   \n",
       "1            Trauma             Extreme                      2  51-60   \n",
       "2            Trauma             Extreme                      2  51-60   \n",
       "3            Trauma             Extreme                      2  51-60   \n",
       "4            Trauma             Extreme                      2  51-60   \n",
       "\n",
       "   Admission_Deposit   Stay  \n",
       "0             4911.0   0-10  \n",
       "1             5954.0  41-50  \n",
       "2             4745.0  31-40  \n",
       "3             7272.0  41-50  \n",
       "4             5558.0  41-50  "
      ]
     },
     "execution_count": 3,
     "metadata": {},
     "output_type": "execute_result"
    }
   ],
   "source": [
    "df.head()"
   ]
  },
  {
   "cell_type": "markdown",
   "id": "otherwise-support",
   "metadata": {},
   "source": [
    "## Data Preprocessing"
   ]
  },
  {
   "cell_type": "markdown",
   "id": "brazilian-hobby",
   "metadata": {},
   "source": [
    "### Checking for missing values"
   ]
  },
  {
   "cell_type": "code",
   "execution_count": 4,
   "id": "editorial-criminal",
   "metadata": {},
   "outputs": [
    {
     "data": {
      "text/plain": [
       "case_id                                 0\n",
       "Hospital_code                           0\n",
       "Hospital_type_code                      0\n",
       "City_Code_Hospital                      0\n",
       "Hospital_region_code                    0\n",
       "Available Extra Rooms in Hospital       0\n",
       "Department                              0\n",
       "Ward_Type                               0\n",
       "Ward_Facility_Code                      0\n",
       "Bed Grade                             113\n",
       "patientid                               0\n",
       "City_Code_Patient                    4532\n",
       "Type of Admission                       0\n",
       "Severity of Illness                     0\n",
       "Visitors with Patient                   0\n",
       "Age                                     0\n",
       "Admission_Deposit                       0\n",
       "Stay                                    0\n",
       "dtype: int64"
      ]
     },
     "execution_count": 4,
     "metadata": {},
     "output_type": "execute_result"
    }
   ],
   "source": [
    "df.isnull().sum()"
   ]
  },
  {
   "cell_type": "markdown",
   "id": "bearing-burlington",
   "metadata": {},
   "source": [
    "### Remove data points with missing values"
   ]
  },
  {
   "cell_type": "code",
   "execution_count": 5,
   "id": "congressional-joyce",
   "metadata": {},
   "outputs": [],
   "source": [
    "df1 = df.dropna()"
   ]
  },
  {
   "cell_type": "markdown",
   "id": "marked-therapy",
   "metadata": {},
   "source": [
    "### Check if missing values are still present"
   ]
  },
  {
   "cell_type": "code",
   "execution_count": 6,
   "id": "irish-straight",
   "metadata": {},
   "outputs": [
    {
     "data": {
      "text/plain": [
       "case_id                              0\n",
       "Hospital_code                        0\n",
       "Hospital_type_code                   0\n",
       "City_Code_Hospital                   0\n",
       "Hospital_region_code                 0\n",
       "Available Extra Rooms in Hospital    0\n",
       "Department                           0\n",
       "Ward_Type                            0\n",
       "Ward_Facility_Code                   0\n",
       "Bed Grade                            0\n",
       "patientid                            0\n",
       "City_Code_Patient                    0\n",
       "Type of Admission                    0\n",
       "Severity of Illness                  0\n",
       "Visitors with Patient                0\n",
       "Age                                  0\n",
       "Admission_Deposit                    0\n",
       "Stay                                 0\n",
       "dtype: int64"
      ]
     },
     "execution_count": 6,
     "metadata": {},
     "output_type": "execute_result"
    }
   ],
   "source": [
    "df1.isnull().sum()"
   ]
  },
  {
   "cell_type": "code",
   "execution_count": 7,
   "id": "graphic-orlando",
   "metadata": {},
   "outputs": [
    {
     "data": {
      "text/plain": [
       "Index(['case_id', 'Hospital_code', 'Hospital_type_code', 'City_Code_Hospital',\n",
       "       'Hospital_region_code', 'Available Extra Rooms in Hospital',\n",
       "       'Department', 'Ward_Type', 'Ward_Facility_Code', 'Bed Grade',\n",
       "       'patientid', 'City_Code_Patient', 'Type of Admission',\n",
       "       'Severity of Illness', 'Visitors with Patient', 'Age',\n",
       "       'Admission_Deposit', 'Stay'],\n",
       "      dtype='object')"
      ]
     },
     "execution_count": 7,
     "metadata": {},
     "output_type": "execute_result"
    }
   ],
   "source": [
    "df1.columns"
   ]
  },
  {
   "cell_type": "markdown",
   "id": "martial-pearl",
   "metadata": {},
   "source": [
    "### Column selection"
   ]
  },
  {
   "cell_type": "code",
   "execution_count": 8,
   "id": "renewable-production",
   "metadata": {},
   "outputs": [],
   "source": [
    "cols = ['Hospital_code', 'Hospital_type_code', 'City_Code_Hospital',\n",
    "       'Available Extra Rooms in Hospital', 'Department', 'Ward_Type',\n",
    "       'Ward_Facility_Code', 'Type of Admission', 'Severity of Illness',\n",
    "       'Visitors with Patient', 'Age', 'Admission_Deposit']"
   ]
  },
  {
   "cell_type": "markdown",
   "id": "allied-square",
   "metadata": {},
   "source": [
    "### Normalization"
   ]
  },
  {
   "cell_type": "code",
   "execution_count": 9,
   "id": "infinite-louis",
   "metadata": {},
   "outputs": [],
   "source": [
    "# I picked out some columns\n",
    "col_cat = ['Hospital_code', 'Hospital_type_code', 'City_Code_Hospital','Type of Admission',\n",
    "          'Department', 'Ward_Type', 'Ward_Facility_Code', 'Age', 'Severity of Illness']"
   ]
  },
  {
   "cell_type": "code",
   "execution_count": 10,
   "id": "institutional-circulation",
   "metadata": {},
   "outputs": [],
   "source": [
    "# I putting all the numerical columns inside a list called col_num\n",
    "col_num = []\n",
    "for i in cols:\n",
    "    if i not in col_cat:\n",
    "        col_num.append(i)"
   ]
  },
  {
   "cell_type": "code",
   "execution_count": 44,
   "id": "hungry-parameter",
   "metadata": {},
   "outputs": [
    {
     "data": {
      "text/plain": [
       "['Available Extra Rooms in Hospital',\n",
       " 'Visitors with Patient',\n",
       " 'Admission_Deposit']"
      ]
     },
     "execution_count": 44,
     "metadata": {},
     "output_type": "execute_result"
    }
   ],
   "source": [
    "col_num"
   ]
  },
  {
   "cell_type": "code",
   "execution_count": 11,
   "id": "bottom-enforcement",
   "metadata": {},
   "outputs": [],
   "source": [
    "# I created a blank. data frame to put in the newly normalized values \n",
    "df2 = pd.DataFrame()\n"
   ]
  },
  {
   "cell_type": "code",
   "execution_count": 45,
   "id": "endless-sacramento",
   "metadata": {},
   "outputs": [],
   "source": [
    "# Normalization of the categorical columns \n",
    "# I created dynamic variables to save each initialization of label encoder so i could get the inverse transform easily\n",
    "for i in col_cat:\n",
    "    globals()['label_%s' %i.lower()] = LabelEncoder()\n",
    "    df2[i] = globals()['label_%s' %i.lower()].fit_transform(df1[i].values)\n",
    "    "
   ]
  },
  {
   "cell_type": "code",
   "execution_count": 43,
   "id": "b60d5ffa",
   "metadata": {},
   "outputs": [
    {
     "data": {
      "text/plain": [
       "array(['TB & Chest disease', 'anesthesia', 'gynecology', 'radiotherapy',\n",
       "       'surgery'], dtype=object)"
      ]
     },
     "execution_count": 43,
     "metadata": {},
     "output_type": "execute_result"
    }
   ],
   "source": [
    "# A preview of the dynamic variables that i created\n",
    "label_department.classes_"
   ]
  },
  {
   "cell_type": "code",
   "execution_count": 14,
   "id": "handled-edgar",
   "metadata": {},
   "outputs": [
    {
     "data": {
      "text/html": [
       "<div>\n",
       "<style scoped>\n",
       "    .dataframe tbody tr th:only-of-type {\n",
       "        vertical-align: middle;\n",
       "    }\n",
       "\n",
       "    .dataframe tbody tr th {\n",
       "        vertical-align: top;\n",
       "    }\n",
       "\n",
       "    .dataframe thead th {\n",
       "        text-align: right;\n",
       "    }\n",
       "</style>\n",
       "<table border=\"1\" class=\"dataframe\">\n",
       "  <thead>\n",
       "    <tr style=\"text-align: right;\">\n",
       "      <th></th>\n",
       "      <th>Hospital_code</th>\n",
       "      <th>Hospital_type_code</th>\n",
       "      <th>City_Code_Hospital</th>\n",
       "      <th>Type of Admission</th>\n",
       "      <th>Department</th>\n",
       "      <th>Ward_Type</th>\n",
       "      <th>Ward_Facility_Code</th>\n",
       "      <th>Age</th>\n",
       "      <th>Severity of Illness</th>\n",
       "    </tr>\n",
       "  </thead>\n",
       "  <tbody>\n",
       "    <tr>\n",
       "      <th>0</th>\n",
       "      <td>7</td>\n",
       "      <td>2</td>\n",
       "      <td>2</td>\n",
       "      <td>0</td>\n",
       "      <td>3</td>\n",
       "      <td>2</td>\n",
       "      <td>5</td>\n",
       "      <td>5</td>\n",
       "      <td>0</td>\n",
       "    </tr>\n",
       "    <tr>\n",
       "      <th>1</th>\n",
       "      <td>1</td>\n",
       "      <td>2</td>\n",
       "      <td>4</td>\n",
       "      <td>1</td>\n",
       "      <td>3</td>\n",
       "      <td>3</td>\n",
       "      <td>5</td>\n",
       "      <td>5</td>\n",
       "      <td>0</td>\n",
       "    </tr>\n",
       "    <tr>\n",
       "      <th>2</th>\n",
       "      <td>9</td>\n",
       "      <td>4</td>\n",
       "      <td>0</td>\n",
       "      <td>1</td>\n",
       "      <td>1</td>\n",
       "      <td>3</td>\n",
       "      <td>4</td>\n",
       "      <td>5</td>\n",
       "      <td>0</td>\n",
       "    </tr>\n",
       "    <tr>\n",
       "      <th>3</th>\n",
       "      <td>25</td>\n",
       "      <td>1</td>\n",
       "      <td>1</td>\n",
       "      <td>1</td>\n",
       "      <td>3</td>\n",
       "      <td>2</td>\n",
       "      <td>3</td>\n",
       "      <td>5</td>\n",
       "      <td>0</td>\n",
       "    </tr>\n",
       "    <tr>\n",
       "      <th>4</th>\n",
       "      <td>25</td>\n",
       "      <td>1</td>\n",
       "      <td>1</td>\n",
       "      <td>1</td>\n",
       "      <td>3</td>\n",
       "      <td>3</td>\n",
       "      <td>3</td>\n",
       "      <td>5</td>\n",
       "      <td>0</td>\n",
       "    </tr>\n",
       "    <tr>\n",
       "      <th>...</th>\n",
       "      <td>...</td>\n",
       "      <td>...</td>\n",
       "      <td>...</td>\n",
       "      <td>...</td>\n",
       "      <td>...</td>\n",
       "      <td>...</td>\n",
       "      <td>...</td>\n",
       "      <td>...</td>\n",
       "      <td>...</td>\n",
       "    </tr>\n",
       "    <tr>\n",
       "      <th>313788</th>\n",
       "      <td>5</td>\n",
       "      <td>0</td>\n",
       "      <td>5</td>\n",
       "      <td>0</td>\n",
       "      <td>3</td>\n",
       "      <td>1</td>\n",
       "      <td>5</td>\n",
       "      <td>4</td>\n",
       "      <td>2</td>\n",
       "    </tr>\n",
       "    <tr>\n",
       "      <th>313789</th>\n",
       "      <td>23</td>\n",
       "      <td>0</td>\n",
       "      <td>0</td>\n",
       "      <td>2</td>\n",
       "      <td>1</td>\n",
       "      <td>1</td>\n",
       "      <td>4</td>\n",
       "      <td>8</td>\n",
       "      <td>2</td>\n",
       "    </tr>\n",
       "    <tr>\n",
       "      <th>313790</th>\n",
       "      <td>6</td>\n",
       "      <td>0</td>\n",
       "      <td>3</td>\n",
       "      <td>0</td>\n",
       "      <td>2</td>\n",
       "      <td>2</td>\n",
       "      <td>5</td>\n",
       "      <td>7</td>\n",
       "      <td>1</td>\n",
       "    </tr>\n",
       "    <tr>\n",
       "      <th>313791</th>\n",
       "      <td>10</td>\n",
       "      <td>1</td>\n",
       "      <td>1</td>\n",
       "      <td>1</td>\n",
       "      <td>1</td>\n",
       "      <td>1</td>\n",
       "      <td>3</td>\n",
       "      <td>1</td>\n",
       "      <td>1</td>\n",
       "    </tr>\n",
       "    <tr>\n",
       "      <th>313792</th>\n",
       "      <td>18</td>\n",
       "      <td>0</td>\n",
       "      <td>6</td>\n",
       "      <td>0</td>\n",
       "      <td>2</td>\n",
       "      <td>1</td>\n",
       "      <td>2</td>\n",
       "      <td>1</td>\n",
       "      <td>1</td>\n",
       "    </tr>\n",
       "  </tbody>\n",
       "</table>\n",
       "<p>313793 rows × 9 columns</p>\n",
       "</div>"
      ],
      "text/plain": [
       "        Hospital_code  Hospital_type_code  City_Code_Hospital  \\\n",
       "0                   7                   2                   2   \n",
       "1                   1                   2                   4   \n",
       "2                   9                   4                   0   \n",
       "3                  25                   1                   1   \n",
       "4                  25                   1                   1   \n",
       "...               ...                 ...                 ...   \n",
       "313788              5                   0                   5   \n",
       "313789             23                   0                   0   \n",
       "313790              6                   0                   3   \n",
       "313791             10                   1                   1   \n",
       "313792             18                   0                   6   \n",
       "\n",
       "        Type of Admission  Department  Ward_Type  Ward_Facility_Code  Age  \\\n",
       "0                       0           3          2                   5    5   \n",
       "1                       1           3          3                   5    5   \n",
       "2                       1           1          3                   4    5   \n",
       "3                       1           3          2                   3    5   \n",
       "4                       1           3          3                   3    5   \n",
       "...                   ...         ...        ...                 ...  ...   \n",
       "313788                  0           3          1                   5    4   \n",
       "313789                  2           1          1                   4    8   \n",
       "313790                  0           2          2                   5    7   \n",
       "313791                  1           1          1                   3    1   \n",
       "313792                  0           2          1                   2    1   \n",
       "\n",
       "        Severity of Illness  \n",
       "0                         0  \n",
       "1                         0  \n",
       "2                         0  \n",
       "3                         0  \n",
       "4                         0  \n",
       "...                     ...  \n",
       "313788                    2  \n",
       "313789                    2  \n",
       "313790                    1  \n",
       "313791                    1  \n",
       "313792                    1  \n",
       "\n",
       "[313793 rows x 9 columns]"
      ]
     },
     "execution_count": 14,
     "metadata": {},
     "output_type": "execute_result"
    }
   ],
   "source": [
    "df2"
   ]
  },
  {
   "cell_type": "code",
   "execution_count": 46,
   "id": "requested-patio",
   "metadata": {},
   "outputs": [],
   "source": [
    "# I created a blank data frame to save the normalization of numerical columns \n",
    "df3 = pd.DataFrame()"
   ]
  },
  {
   "cell_type": "code",
   "execution_count": 16,
   "id": "provincial-profession",
   "metadata": {},
   "outputs": [],
   "source": [
    "# I was getting errors trying to save the output of the normalization of numerical columns \n",
    "#so i created a new column inside the blank data frame which i am going to delete after\n",
    "# normalization\n",
    "df3['Age'] = df2['Age']"
   ]
  },
  {
   "cell_type": "code",
   "execution_count": 17,
   "id": "requested-exposure",
   "metadata": {},
   "outputs": [],
   "source": [
    "# Normalization of the numerical columns\n",
    "# I created dynamic variables to save each initialization of label encoder so i could get the inverse transform easily\n",
    "for i in col_num:\n",
    "    globals()['std_%s' %i.lower()] = StandardScaler()\n",
    "    df3[i] = globals()['std_%s' %i.lower()].fit_transform(np.array(df1[i].values).reshape(-1,1))"
   ]
  },
  {
   "cell_type": "code",
   "execution_count": 18,
   "id": "aware-sucking",
   "metadata": {},
   "outputs": [],
   "source": [
    "del df3['Age']"
   ]
  },
  {
   "cell_type": "code",
   "execution_count": null,
   "id": "attempted-circular",
   "metadata": {},
   "outputs": [],
   "source": []
  },
  {
   "cell_type": "code",
   "execution_count": 19,
   "id": "manufactured-simpson",
   "metadata": {},
   "outputs": [],
   "source": [
    "le_target = LabelEncoder()\n",
    "df3['Stay'] = le_target.fit_transform(df1['Stay'])"
   ]
  },
  {
   "cell_type": "markdown",
   "id": "split-contribution",
   "metadata": {},
   "source": [
    "### Joining normalized data"
   ]
  },
  {
   "cell_type": "code",
   "execution_count": 47,
   "id": "impaired-sector",
   "metadata": {},
   "outputs": [],
   "source": [
    "# I joined the normalized values of the categorical and the numerical values\n",
    "df4 = pd.concat([df2,df3], axis=1)"
   ]
  },
  {
   "cell_type": "code",
   "execution_count": 21,
   "id": "outer-johnson",
   "metadata": {},
   "outputs": [
    {
     "data": {
      "text/html": [
       "<div>\n",
       "<style scoped>\n",
       "    .dataframe tbody tr th:only-of-type {\n",
       "        vertical-align: middle;\n",
       "    }\n",
       "\n",
       "    .dataframe tbody tr th {\n",
       "        vertical-align: top;\n",
       "    }\n",
       "\n",
       "    .dataframe thead th {\n",
       "        text-align: right;\n",
       "    }\n",
       "</style>\n",
       "<table border=\"1\" class=\"dataframe\">\n",
       "  <thead>\n",
       "    <tr style=\"text-align: right;\">\n",
       "      <th></th>\n",
       "      <th>Hospital_code</th>\n",
       "      <th>Hospital_type_code</th>\n",
       "      <th>City_Code_Hospital</th>\n",
       "      <th>Type of Admission</th>\n",
       "      <th>Department</th>\n",
       "      <th>Ward_Type</th>\n",
       "      <th>Ward_Facility_Code</th>\n",
       "      <th>Age</th>\n",
       "      <th>Severity of Illness</th>\n",
       "      <th>Available Extra Rooms in Hospital</th>\n",
       "      <th>Visitors with Patient</th>\n",
       "      <th>Admission_Deposit</th>\n",
       "      <th>Stay</th>\n",
       "    </tr>\n",
       "  </thead>\n",
       "  <tbody>\n",
       "    <tr>\n",
       "      <th>0</th>\n",
       "      <td>7</td>\n",
       "      <td>2</td>\n",
       "      <td>2</td>\n",
       "      <td>0</td>\n",
       "      <td>3</td>\n",
       "      <td>2</td>\n",
       "      <td>5</td>\n",
       "      <td>5</td>\n",
       "      <td>0</td>\n",
       "      <td>-0.168178</td>\n",
       "      <td>-0.727035</td>\n",
       "      <td>0.026796</td>\n",
       "      <td>0</td>\n",
       "    </tr>\n",
       "    <tr>\n",
       "      <th>1</th>\n",
       "      <td>1</td>\n",
       "      <td>2</td>\n",
       "      <td>4</td>\n",
       "      <td>1</td>\n",
       "      <td>3</td>\n",
       "      <td>3</td>\n",
       "      <td>5</td>\n",
       "      <td>5</td>\n",
       "      <td>0</td>\n",
       "      <td>-1.024400</td>\n",
       "      <td>-0.727035</td>\n",
       "      <td>0.986987</td>\n",
       "      <td>4</td>\n",
       "    </tr>\n",
       "    <tr>\n",
       "      <th>2</th>\n",
       "      <td>9</td>\n",
       "      <td>4</td>\n",
       "      <td>0</td>\n",
       "      <td>1</td>\n",
       "      <td>1</td>\n",
       "      <td>3</td>\n",
       "      <td>4</td>\n",
       "      <td>5</td>\n",
       "      <td>0</td>\n",
       "      <td>-1.024400</td>\n",
       "      <td>-0.727035</td>\n",
       "      <td>-0.126025</td>\n",
       "      <td>3</td>\n",
       "    </tr>\n",
       "    <tr>\n",
       "      <th>3</th>\n",
       "      <td>25</td>\n",
       "      <td>1</td>\n",
       "      <td>1</td>\n",
       "      <td>1</td>\n",
       "      <td>3</td>\n",
       "      <td>2</td>\n",
       "      <td>3</td>\n",
       "      <td>5</td>\n",
       "      <td>0</td>\n",
       "      <td>-1.024400</td>\n",
       "      <td>-0.727035</td>\n",
       "      <td>2.200344</td>\n",
       "      <td>4</td>\n",
       "    </tr>\n",
       "    <tr>\n",
       "      <th>4</th>\n",
       "      <td>25</td>\n",
       "      <td>1</td>\n",
       "      <td>1</td>\n",
       "      <td>1</td>\n",
       "      <td>3</td>\n",
       "      <td>3</td>\n",
       "      <td>3</td>\n",
       "      <td>5</td>\n",
       "      <td>0</td>\n",
       "      <td>-1.024400</td>\n",
       "      <td>-0.727035</td>\n",
       "      <td>0.622427</td>\n",
       "      <td>4</td>\n",
       "    </tr>\n",
       "    <tr>\n",
       "      <th>...</th>\n",
       "      <td>...</td>\n",
       "      <td>...</td>\n",
       "      <td>...</td>\n",
       "      <td>...</td>\n",
       "      <td>...</td>\n",
       "      <td>...</td>\n",
       "      <td>...</td>\n",
       "      <td>...</td>\n",
       "      <td>...</td>\n",
       "      <td>...</td>\n",
       "      <td>...</td>\n",
       "      <td>...</td>\n",
       "      <td>...</td>\n",
       "    </tr>\n",
       "    <tr>\n",
       "      <th>313788</th>\n",
       "      <td>5</td>\n",
       "      <td>0</td>\n",
       "      <td>5</td>\n",
       "      <td>0</td>\n",
       "      <td>3</td>\n",
       "      <td>1</td>\n",
       "      <td>5</td>\n",
       "      <td>4</td>\n",
       "      <td>2</td>\n",
       "      <td>-0.168178</td>\n",
       "      <td>-0.159419</td>\n",
       "      <td>-0.679308</td>\n",
       "      <td>1</td>\n",
       "    </tr>\n",
       "    <tr>\n",
       "      <th>313789</th>\n",
       "      <td>23</td>\n",
       "      <td>0</td>\n",
       "      <td>0</td>\n",
       "      <td>2</td>\n",
       "      <td>1</td>\n",
       "      <td>1</td>\n",
       "      <td>4</td>\n",
       "      <td>8</td>\n",
       "      <td>2</td>\n",
       "      <td>-1.024400</td>\n",
       "      <td>0.408197</td>\n",
       "      <td>1.672838</td>\n",
       "      <td>3</td>\n",
       "    </tr>\n",
       "    <tr>\n",
       "      <th>313790</th>\n",
       "      <td>6</td>\n",
       "      <td>0</td>\n",
       "      <td>3</td>\n",
       "      <td>0</td>\n",
       "      <td>2</td>\n",
       "      <td>2</td>\n",
       "      <td>5</td>\n",
       "      <td>7</td>\n",
       "      <td>1</td>\n",
       "      <td>-0.168178</td>\n",
       "      <td>-0.159419</td>\n",
       "      <td>-0.595533</td>\n",
       "      <td>1</td>\n",
       "    </tr>\n",
       "    <tr>\n",
       "      <th>313791</th>\n",
       "      <td>10</td>\n",
       "      <td>1</td>\n",
       "      <td>1</td>\n",
       "      <td>1</td>\n",
       "      <td>1</td>\n",
       "      <td>1</td>\n",
       "      <td>3</td>\n",
       "      <td>1</td>\n",
       "      <td>1</td>\n",
       "      <td>-0.168178</td>\n",
       "      <td>0.975813</td>\n",
       "      <td>-1.031900</td>\n",
       "      <td>1</td>\n",
       "    </tr>\n",
       "    <tr>\n",
       "      <th>313792</th>\n",
       "      <td>18</td>\n",
       "      <td>0</td>\n",
       "      <td>6</td>\n",
       "      <td>0</td>\n",
       "      <td>2</td>\n",
       "      <td>1</td>\n",
       "      <td>2</td>\n",
       "      <td>1</td>\n",
       "      <td>1</td>\n",
       "      <td>1.544265</td>\n",
       "      <td>-0.727035</td>\n",
       "      <td>-0.119580</td>\n",
       "      <td>0</td>\n",
       "    </tr>\n",
       "  </tbody>\n",
       "</table>\n",
       "<p>313793 rows × 13 columns</p>\n",
       "</div>"
      ],
      "text/plain": [
       "        Hospital_code  Hospital_type_code  City_Code_Hospital  \\\n",
       "0                   7                   2                   2   \n",
       "1                   1                   2                   4   \n",
       "2                   9                   4                   0   \n",
       "3                  25                   1                   1   \n",
       "4                  25                   1                   1   \n",
       "...               ...                 ...                 ...   \n",
       "313788              5                   0                   5   \n",
       "313789             23                   0                   0   \n",
       "313790              6                   0                   3   \n",
       "313791             10                   1                   1   \n",
       "313792             18                   0                   6   \n",
       "\n",
       "        Type of Admission  Department  Ward_Type  Ward_Facility_Code  Age  \\\n",
       "0                       0           3          2                   5    5   \n",
       "1                       1           3          3                   5    5   \n",
       "2                       1           1          3                   4    5   \n",
       "3                       1           3          2                   3    5   \n",
       "4                       1           3          3                   3    5   \n",
       "...                   ...         ...        ...                 ...  ...   \n",
       "313788                  0           3          1                   5    4   \n",
       "313789                  2           1          1                   4    8   \n",
       "313790                  0           2          2                   5    7   \n",
       "313791                  1           1          1                   3    1   \n",
       "313792                  0           2          1                   2    1   \n",
       "\n",
       "        Severity of Illness  Available Extra Rooms in Hospital  \\\n",
       "0                         0                          -0.168178   \n",
       "1                         0                          -1.024400   \n",
       "2                         0                          -1.024400   \n",
       "3                         0                          -1.024400   \n",
       "4                         0                          -1.024400   \n",
       "...                     ...                                ...   \n",
       "313788                    2                          -0.168178   \n",
       "313789                    2                          -1.024400   \n",
       "313790                    1                          -0.168178   \n",
       "313791                    1                          -0.168178   \n",
       "313792                    1                           1.544265   \n",
       "\n",
       "        Visitors with Patient  Admission_Deposit  Stay  \n",
       "0                   -0.727035           0.026796     0  \n",
       "1                   -0.727035           0.986987     4  \n",
       "2                   -0.727035          -0.126025     3  \n",
       "3                   -0.727035           2.200344     4  \n",
       "4                   -0.727035           0.622427     4  \n",
       "...                       ...                ...   ...  \n",
       "313788              -0.159419          -0.679308     1  \n",
       "313789               0.408197           1.672838     3  \n",
       "313790              -0.159419          -0.595533     1  \n",
       "313791               0.975813          -1.031900     1  \n",
       "313792              -0.727035          -0.119580     0  \n",
       "\n",
       "[313793 rows x 13 columns]"
      ]
     },
     "execution_count": 21,
     "metadata": {},
     "output_type": "execute_result"
    }
   ],
   "source": [
    "df4"
   ]
  },
  {
   "cell_type": "markdown",
   "id": "supposed-candy",
   "metadata": {},
   "source": [
    "## Picking out columns for modelling"
   ]
  },
  {
   "cell_type": "code",
   "execution_count": 48,
   "id": "british-blackjack",
   "metadata": {},
   "outputs": [],
   "source": [
    "\n",
    "X = df4.iloc[:,:-1]\n",
    "y = df4.iloc[:,-1]"
   ]
  },
  {
   "cell_type": "markdown",
   "id": "later-scheduling",
   "metadata": {},
   "source": [
    "## Decision Tree"
   ]
  },
  {
   "cell_type": "markdown",
   "id": "rough-catch",
   "metadata": {},
   "source": [
    "### 10 fold cross validation analysis"
   ]
  },
  {
   "cell_type": "code",
   "execution_count": 49,
   "id": "pretty-branch",
   "metadata": {},
   "outputs": [],
   "source": [
    "# Here i did the 10 fold cross validation. The matrix i used were accuracy, F1, precision and recall\n",
    "cv = KFold(n_splits=10, random_state=1, shuffle=True)\n",
    "model = DecisionTreeClassifier(criterion = 'entropy', min_samples_leaf=20)\n",
    "scoring = ['accuracy','f1_macro','precision_macro', 'recall_macro']\n",
    "scores = cross_validate(model, X, y, scoring=scoring, cv=cv, n_jobs=-1)"
   ]
  },
  {
   "cell_type": "code",
   "execution_count": 24,
   "id": "harmful-tucson",
   "metadata": {},
   "outputs": [
    {
     "data": {
      "text/plain": [
       "array([0.37205226, 0.36883365, 0.36510516, 0.36192995, 0.36635967,\n",
       "       0.36288601, 0.36741133, 0.36476624, 0.3692597 , 0.36620033])"
      ]
     },
     "execution_count": 24,
     "metadata": {},
     "output_type": "execute_result"
    }
   ],
   "source": [
    "scores['test_accuracy']"
   ]
  },
  {
   "cell_type": "markdown",
   "id": "separated-cabin",
   "metadata": {},
   "source": [
    "- Conclusion\n",
    "\n",
    "The accuracy is pretty the same for each trial, so this shows to prove that no matter the section of the data used to train the model, the accuracy will be close. The data is pretty much balanced"
   ]
  },
  {
   "cell_type": "markdown",
   "id": "biological-wyoming",
   "metadata": {},
   "source": [
    "### Training and testing with the same set of data points"
   ]
  },
  {
   "cell_type": "code",
   "execution_count": 25,
   "id": "changed-resolution",
   "metadata": {},
   "outputs": [
    {
     "data": {
      "text/plain": [
       "99.71"
      ]
     },
     "execution_count": 25,
     "metadata": {},
     "output_type": "execute_result"
    }
   ],
   "source": [
    "# Decision Tree\n",
    "# We are testing and training with the same data set.\n",
    "decision_tree = DecisionTreeClassifier()\n",
    "decision_tree.fit(X, y)\n",
    "y_pred = decision_tree.predict(X)\n",
    "acc_decision_tree = round(decision_tree.score(X, y) * 100, 2)\n",
    "acc_decision_tree"
   ]
  },
  {
   "cell_type": "code",
   "execution_count": 26,
   "id": "declared-martial",
   "metadata": {},
   "outputs": [
    {
     "name": "stdout",
     "output_type": "stream",
     "text": [
      "The accuracy score is:  0.9971159331151428 \n",
      "\n",
      "The precision score is:  0.9971159331151428 \n",
      "\n",
      "The recall score is:  0.9971159331151428 \n",
      "\n",
      "The f1 score is:  0.9971159331151428\n"
     ]
    }
   ],
   "source": [
    "print(\"The accuracy score is: \" ,accuracy_score(y, y_pred), \"\\n\")\n",
    "print(\"The precision score is: \", precision_score(y, y_pred, pos_label='positive', average='micro'), \"\\n\")\n",
    "print(\"The recall score is: \", recall_score(y, y_pred, pos_label='positive', average='micro'), \"\\n\")\n",
    "print(\"The f1 score is: \", f1_score(y, y_pred, pos_label='positive', average='micro'))"
   ]
  },
  {
   "cell_type": "markdown",
   "id": "separate-cartridge",
   "metadata": {},
   "source": [
    "- Conclusion\n",
    "\n",
    "When the set of data used to train the model is been used to test the model, it shows high accuracy. With the results from the 10 fold cross validation analysis, we can draw conclusion that this particular model is overfitting"
   ]
  },
  {
   "cell_type": "markdown",
   "id": "dated-metadata",
   "metadata": {},
   "source": [
    "### Training and testing with different datasets "
   ]
  },
  {
   "cell_type": "code",
   "execution_count": 50,
   "id": "assisted-gibraltar",
   "metadata": {},
   "outputs": [],
   "source": [
    "# I split the data set into training and testing set\n",
    "X_train, X_test, y_train, y_test = train_test_split( \n",
    "    X.values, y.values, test_size=0.2, random_state=0)"
   ]
  },
  {
   "cell_type": "code",
   "execution_count": 51,
   "id": "portable-shoulder",
   "metadata": {},
   "outputs": [
    {
     "data": {
      "text/plain": [
       "54.29"
      ]
     },
     "execution_count": 51,
     "metadata": {},
     "output_type": "execute_result"
    }
   ],
   "source": [
    "# Decision Tree\n",
    "# I fitted and tested the model with two different data sets\n",
    "decision_tree = DecisionTreeClassifier()\n",
    "decision_tree.fit(X_train, y_train)\n",
    "y_pred = decision_tree.predict(X_test)\n",
    "acc_decision_tree = round(decision_tree.score(X_test, y_test) * 100, 2)\n",
    "acc_decision_tree"
   ]
  },
  {
   "cell_type": "code",
   "execution_count": 29,
   "id": "formed-heritage",
   "metadata": {},
   "outputs": [
    {
     "name": "stdout",
     "output_type": "stream",
     "text": [
      "The accuracy score is:  0.28445322583215155 \n",
      "\n",
      "The precision score is:  0.28445322583215155 \n",
      "\n",
      "The recall score is:  0.28445322583215155 \n",
      "\n",
      "The f1 score is:  0.28445322583215155\n"
     ]
    }
   ],
   "source": [
    "print(\"The accuracy score is: \" ,accuracy_score(y_test, y_pred), \"\\n\")\n",
    "print(\"The precision score is: \", precision_score(y_test, y_pred, pos_label='positive', average='micro'), \"\\n\")\n",
    "print(\"The recall score is: \", recall_score(y_test, y_pred, pos_label='positive', average='micro'), \"\\n\")\n",
    "print(\"The f1 score is: \", f1_score(y_test, y_pred, pos_label='positive', average='micro'))"
   ]
  },
  {
   "cell_type": "markdown",
   "id": "collective-colony",
   "metadata": {},
   "source": [
    "- Conclusion\n",
    "\n",
    "From the results above, the accuracy is very low and other metrics so the model is under-performing, parameters need to improve."
   ]
  },
  {
   "cell_type": "markdown",
   "id": "optimum-fluid",
   "metadata": {},
   "source": [
    "### Decision tree Model Parameter analysis"
   ]
  },
  {
   "cell_type": "markdown",
   "id": "celtic-antibody",
   "metadata": {},
   "source": [
    "#### Minimal number of instances permissible per leaf."
   ]
  },
  {
   "cell_type": "code",
   "execution_count": 30,
   "id": "instructional-smith",
   "metadata": {},
   "outputs": [
    {
     "name": "stdout",
     "output_type": "stream",
     "text": [
      "The accuracy on 15 mininmum sample leaf is :  35.35 % \n",
      "\n",
      "The accuracy on 20 mininmum sample leaf is :  36.35 % \n",
      "\n",
      "The accuracy on 25 mininmum sample leaf is :  36.9 % \n",
      "\n"
     ]
    }
   ],
   "source": [
    "# We are altering the minimum sampling of leaf using 15,20 and 25 \n",
    "n_leaf = [15, 20, 25]\n",
    "for i in n_leaf:\n",
    "    decision_tree = DecisionTreeClassifier(min_samples_leaf = i)\n",
    "    decision_tree.fit(X_train, y_train)\n",
    "    y_pred = decision_tree.predict(X_test)\n",
    "    print(\"The accuracy on {} mininmum sample leaf is : \".format(i),round(accuracy_score(y_test, y_pred), 4) * 100, \"% \\n\")"
   ]
  },
  {
   "cell_type": "markdown",
   "id": "historic-basement",
   "metadata": {},
   "source": [
    "- Conclusion\n",
    "\n",
    "As the minimum sample leaf is increased, the model accuracy increases, the accuracy increase also reduces, so there will be a saturation point where the accuracy will remain the same going forward"
   ]
  },
  {
   "cell_type": "markdown",
   "id": "shared-williams",
   "metadata": {},
   "source": [
    "#### Splitting criteria"
   ]
  },
  {
   "cell_type": "code",
   "execution_count": 31,
   "id": "continuing-shadow",
   "metadata": {},
   "outputs": [
    {
     "name": "stdout",
     "output_type": "stream",
     "text": [
      "The accuracy on gini criterion is :  28.63 % \n",
      "\n",
      "The accuracy on entropy criterion is :  28.349999999999998 % \n",
      "\n"
     ]
    }
   ],
   "source": [
    "# Here we used guinea and entropy criteria to split the trees \n",
    "criterions = [\"gini\", \"entropy\"]\n",
    "for i in criterions:\n",
    "    decision_tree = DecisionTreeClassifier(criterion = i)\n",
    "    decision_tree.fit(X_train, y_train)\n",
    "    y_pred = decision_tree.predict(X_test)\n",
    "    print(\"The accuracy on {} criterion is : \".format(i),round(accuracy_score(y_test, y_pred), 4) * 100, \"% \\n\")"
   ]
  },
  {
   "cell_type": "markdown",
   "id": "julian-translator",
   "metadata": {},
   "source": [
    "- Conclusion\n",
    "\n",
    "The model does better on entropy criterion"
   ]
  },
  {
   "cell_type": "markdown",
   "id": "controlling-paper",
   "metadata": {},
   "source": [
    "#### Max depth of the tree"
   ]
  },
  {
   "cell_type": "code",
   "execution_count": 32,
   "id": "relevant-matthew",
   "metadata": {},
   "outputs": [
    {
     "name": "stdout",
     "output_type": "stream",
     "text": [
      "The accuracy on 20 maximum depth is :  34.42 % \n",
      "\n",
      "The accuracy on 60 maximum depth is :  28.48 % \n",
      "\n",
      "The accuracy on 110 maximum depth is :  28.389999999999997 % \n",
      "\n"
     ]
    }
   ],
   "source": [
    "#\n",
    "max_depths = [20, 60, 110]\n",
    "for i in max_depths:\n",
    "    decision_tree = DecisionTreeClassifier(max_depth = i)\n",
    "    decision_tree.fit(X_train, y_train)\n",
    "    y_pred = decision_tree.predict(X_test)\n",
    "    print(\"The accuracy on {} maximum depth is : \".format(i),round(accuracy_score(y_test, y_pred), 4) * 100, \"% \\n\")"
   ]
  },
  {
   "cell_type": "markdown",
   "id": "embedded-murray",
   "metadata": {},
   "source": [
    "-  Conclusion\n",
    "\n",
    "The accuracy reduces as the Tree depth is increased"
   ]
  },
  {
   "cell_type": "markdown",
   "id": "pursuant-backup",
   "metadata": {},
   "source": [
    "#### Training and testing set variation"
   ]
  },
  {
   "cell_type": "code",
   "execution_count": 33,
   "id": "manufactured-allergy",
   "metadata": {},
   "outputs": [
    {
     "name": "stdout",
     "output_type": "stream",
     "text": [
      "The accuracy on 90.0 % training set is :  28.49 % \n",
      "\n",
      "The accuracy on 60.0 % training set is :  28.34 % \n",
      "\n",
      "The accuracy on 30.000000000000004 % training set is :  28.07 % \n",
      "\n"
     ]
    }
   ],
   "source": [
    "test_sizes = [0.1, 0.4, 0.7]\n",
    "for i in test_sizes:\n",
    "    X_train, X_test, y_train, y_test = train_test_split(X.values, y.values, test_size=i, random_state=0)\n",
    "    decision_tree = DecisionTreeClassifier()\n",
    "    decision_tree.fit(X_train, y_train)\n",
    "    y_pred = decision_tree.predict(X_test)\n",
    "    acc_decision_tree = round(decision_tree.score(X_test, y_test) * 100, 2)\n",
    "    print(\"The accuracy on {} % training set is : \".format((1-i) * 100),round(accuracy_score(y_test, y_pred), 4) * 100, \"% \\n\")"
   ]
  },
  {
   "cell_type": "markdown",
   "id": "significant-tuner",
   "metadata": {},
   "source": [
    "- Conclusion\n",
    "\n",
    "The model accuracy reduces as the training set reduces which is common among discriminative models unlike generative models that do well with less data"
   ]
  },
  {
   "cell_type": "markdown",
   "id": "material-combination",
   "metadata": {},
   "source": [
    "## Random Forest"
   ]
  },
  {
   "cell_type": "markdown",
   "id": "promising-louisiana",
   "metadata": {},
   "source": [
    "### Training and testing with the same set of data points"
   ]
  },
  {
   "cell_type": "code",
   "execution_count": 34,
   "id": "neural-nothing",
   "metadata": {},
   "outputs": [
    {
     "data": {
      "text/plain": [
       "99.71"
      ]
     },
     "execution_count": 34,
     "metadata": {},
     "output_type": "execute_result"
    }
   ],
   "source": [
    "# Decision Tree\n",
    "random_forest = RandomForestClassifier()\n",
    "random_forest.fit(X, y)\n",
    "y_pred = random_forest.predict(X)\n",
    "acc_decision_tree = round(random_forest.score(X, y) * 100, 2)\n",
    "acc_decision_tree"
   ]
  },
  {
   "cell_type": "code",
   "execution_count": 35,
   "id": "patient-balance",
   "metadata": {},
   "outputs": [
    {
     "name": "stdout",
     "output_type": "stream",
     "text": [
      "The accuracy score is:  0.9971031858581931 \n",
      "\n",
      "The precision score is:  0.9971031858581931 \n",
      "\n",
      "The recall score is:  0.9971031858581931 \n",
      "\n",
      "The f1 score is:  0.9971031858581931\n"
     ]
    }
   ],
   "source": [
    "print(\"The accuracy score is: \" ,accuracy_score(y, y_pred), \"\\n\")\n",
    "print(\"The precision score is: \", precision_score(y, y_pred, pos_label='positive', average='micro'), \"\\n\")\n",
    "print(\"The recall score is: \", recall_score(y, y_pred, pos_label='positive', average='micro'), \"\\n\")\n",
    "print(\"The f1 score is: \", f1_score(y, y_pred, pos_label='positive', average='micro'))"
   ]
  },
  {
   "cell_type": "code",
   "execution_count": null,
   "id": "simple-pressure",
   "metadata": {},
   "outputs": [],
   "source": []
  },
  {
   "cell_type": "code",
   "execution_count": 36,
   "id": "continuous-remedy",
   "metadata": {},
   "outputs": [],
   "source": [
    "X_train, X_test, y_train, y_test = train_test_split( \n",
    "    X.values, y.values, test_size=0.2, random_state=0)"
   ]
  },
  {
   "cell_type": "code",
   "execution_count": 37,
   "id": "suspected-frequency",
   "metadata": {},
   "outputs": [
    {
     "data": {
      "text/plain": [
       "33.48"
      ]
     },
     "execution_count": 37,
     "metadata": {},
     "output_type": "execute_result"
    }
   ],
   "source": [
    "# Decision Tree\n",
    "random_forest = RandomForestClassifier()\n",
    "random_forest.fit(X_train, y_train)\n",
    "y_pred = random_forest.predict(X_test)\n",
    "acc_random_forest = round(random_forest.score(X_test, y_test) * 100, 2)\n",
    "acc_random_forest"
   ]
  },
  {
   "cell_type": "code",
   "execution_count": 38,
   "id": "metropolitan-validation",
   "metadata": {},
   "outputs": [
    {
     "name": "stdout",
     "output_type": "stream",
     "text": [
      "The accuracy score is:  0.3347727019232301 \n",
      "\n",
      "The precision score is:  0.3347727019232301 \n",
      "\n",
      "The recall score is:  0.3347727019232301 \n",
      "\n",
      "The f1 score is:  0.3347727019232301\n"
     ]
    }
   ],
   "source": [
    "print(\"The accuracy score is: \" ,accuracy_score(y_test, y_pred), \"\\n\")\n",
    "print(\"The precision score is: \", precision_score(y_test, y_pred, pos_label='positive', average='micro'), \"\\n\")\n",
    "print(\"The recall score is: \", recall_score(y_test, y_pred, pos_label='positive', average='micro'), \"\\n\")\n",
    "print(\"The f1 score is: \", f1_score(y_test, y_pred, pos_label='positive', average='micro'))"
   ]
  },
  {
   "cell_type": "code",
   "execution_count": null,
   "id": "interracial-outside",
   "metadata": {},
   "outputs": [],
   "source": []
  },
  {
   "cell_type": "code",
   "execution_count": 39,
   "id": "purple-receiver",
   "metadata": {},
   "outputs": [
    {
     "name": "stdout",
     "output_type": "stream",
     "text": [
      "The accuracy on 15 mininmum smaple leaf is :  40.300000000000004 % \n",
      "\n",
      "The accuracy on 20 mininmum smaple leaf is :  40.339999999999996 % \n",
      "\n",
      "The accuracy on 25 mininmum smaple leaf is :  40.400000000000006 % \n",
      "\n"
     ]
    }
   ],
   "source": [
    "n_leaf = [15, 20, 25]\n",
    "for i in n_leaf:\n",
    "    random_forest = RandomForestClassifier(min_samples_leaf = i)\n",
    "    random_forest.fit(X_train, y_train)\n",
    "    y_pred = random_forest.predict(X_test)\n",
    "    print(\"The accuracy on {} mininmum smaple leaf is : \".format(i),round(accuracy_score(y_test, y_pred), 4) * 100, \"% \\n\")"
   ]
  },
  {
   "cell_type": "code",
   "execution_count": 40,
   "id": "eleven-profession",
   "metadata": {},
   "outputs": [
    {
     "name": "stdout",
     "output_type": "stream",
     "text": [
      "The accuracy on gini criterion is :  33.45 % \n",
      "\n",
      "The accuracy on entropy criterion is :  33.339999999999996 % \n",
      "\n"
     ]
    }
   ],
   "source": [
    "criterions = [\"gini\", \"entropy\"]\n",
    "for i in criterions:\n",
    "    random_forest = RandomForestClassifier(criterion = i)\n",
    "    random_forest.fit(X_train, y_train)\n",
    "    y_pred = random_forest.predict(X_test)\n",
    "    print(\"The accuracy on {} criterion is : \".format(i),round(accuracy_score(y_test, y_pred), 4) * 100, \"% \\n\")"
   ]
  },
  {
   "cell_type": "code",
   "execution_count": 41,
   "id": "radical-significance",
   "metadata": {},
   "outputs": [
    {
     "name": "stdout",
     "output_type": "stream",
     "text": [
      "The accuracy on 20 maximum depth is :  38.6 % \n",
      "\n",
      "The accuracy on 60 maximum depth is :  33.37 % \n",
      "\n",
      "The accuracy on 110 maximum depth is :  33.19 % \n",
      "\n"
     ]
    }
   ],
   "source": [
    "max_depths = [20, 60, 110]\n",
    "for i in max_depths:\n",
    "    random_forest = RandomForestClassifier(max_depth = i)\n",
    "    random_forest.fit(X_train, y_train)\n",
    "    y_pred = random_forest.predict(X_test)\n",
    "    print(\"The accuracy on {} maximum depth is : \".format(i),round(accuracy_score(y_test, y_pred), 4) * 100, \"% \\n\")"
   ]
  },
  {
   "cell_type": "code",
   "execution_count": 42,
   "id": "specialized-lucas",
   "metadata": {},
   "outputs": [
    {
     "name": "stdout",
     "output_type": "stream",
     "text": [
      "The accuracy on 90.0 training set is :  33.31 % \n",
      "\n",
      "The accuracy on 60.0 training set is :  33.36 % \n",
      "\n",
      "The accuracy on 30.000000000000004 training set is :  33.72 % \n",
      "\n"
     ]
    }
   ],
   "source": [
    "test_sizes = [0.1, 0.4, 0.7]\n",
    "for i in test_sizes:\n",
    "    X_train, X_test, y_train, y_test = train_test_split(X.values, y.values, test_size=i, random_state=0)\n",
    "    random_forest = RandomForestClassifier()\n",
    "    random_forest.fit(X_train, y_train)\n",
    "    y_pred = random_forest.predict(X_test)\n",
    "    print(\"The accuracy on {} training set is : \".format((1-i) * 100),round(accuracy_score(y_test, y_pred), 4) * 100, \"% \\n\")"
   ]
  },
  {
   "cell_type": "code",
   "execution_count": null,
   "id": "disturbed-firmware",
   "metadata": {},
   "outputs": [],
   "source": []
  }
 ],
 "metadata": {
  "kernelspec": {
   "display_name": "Python 3",
   "language": "python",
   "name": "python3"
  },
  "language_info": {
   "codemirror_mode": {
    "name": "ipython",
    "version": 3
   },
   "file_extension": ".py",
   "mimetype": "text/x-python",
   "name": "python",
   "nbconvert_exporter": "python",
   "pygments_lexer": "ipython3",
   "version": "3.8.8"
  },
  "toc": {
   "base_numbering": 1,
   "nav_menu": {},
   "number_sections": true,
   "sideBar": true,
   "skip_h1_title": false,
   "title_cell": "Table of Contents",
   "title_sidebar": "Contents",
   "toc_cell": false,
   "toc_position": {},
   "toc_section_display": true,
   "toc_window_display": false
  },
  "varInspector": {
   "cols": {
    "lenName": 16,
    "lenType": 16,
    "lenVar": 40
   },
   "kernels_config": {
    "python": {
     "delete_cmd_postfix": "",
     "delete_cmd_prefix": "del ",
     "library": "var_list.py",
     "varRefreshCmd": "print(var_dic_list())"
    },
    "r": {
     "delete_cmd_postfix": ") ",
     "delete_cmd_prefix": "rm(",
     "library": "var_list.r",
     "varRefreshCmd": "cat(var_dic_list()) "
    }
   },
   "types_to_exclude": [
    "module",
    "function",
    "builtin_function_or_method",
    "instance",
    "_Feature"
   ],
   "window_display": false
  }
 },
 "nbformat": 4,
 "nbformat_minor": 5
}
